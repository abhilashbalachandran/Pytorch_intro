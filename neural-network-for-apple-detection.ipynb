{
 "cells": [
  {
   "cell_type": "code",
   "execution_count": 85,
   "metadata": {},
   "outputs": [
    {
     "name": "stdout",
     "output_type": "stream",
     "text": [
      "50000\n",
      "[0 1 1 ..., 0 0 0]\n"
     ]
    }
   ],
   "source": [
    "%matplotlib inline\n",
    "import matplotlib.pyplot as plt\n",
    "import numpy as np\n",
    "from __future__ import print_function\n",
    "import torch\n",
    "from torch.autograd import Variable\n",
    "from IPython.display import clear_output\n",
    "\n",
    "images = np.load('images.npy')\n",
    "labels = np.load('labels.npy')\n",
    "num_images,height,width = np.shape(images)\n",
    "images = images.astype(float)\n",
    "images = np.reshape(images,(num_images,height*width))/255.0\n",
    "np.shape(images)\n",
    "print(num_images)\n",
    "\n",
    "labels = labels.astype(int)\n",
    "labels[labels!=0]=-1\n",
    "labels[labels==0]=1\n",
    "labels[labels==-1]=0\n",
    "\n",
    "print(labels)\n",
    "\n"
   ]
  },
  {
   "cell_type": "code",
   "execution_count": 86,
   "metadata": {},
   "outputs": [
    {
     "name": "stdout",
     "output_type": "stream",
     "text": [
      "(5000, 676)\n",
      "(5000,)\n",
      "(40000, 676)\n",
      "(40000,)\n",
      "(5000, 676)\n",
      "(5000,)\n"
     ]
    }
   ],
   "source": [
    "x_valid = images[0:5000][:]\n",
    "print(np.shape(x_valid))\n",
    "y_valid = labels[0:5000]\n",
    "print(np.shape(y_valid))\n",
    "\n",
    "x_train = images[0:40000][:]\n",
    "print(np.shape(x_train))\n",
    "y_train = labels[0:40000]\n",
    "print(np.shape(y_train))\n",
    "\n",
    "x_test = images[0:5000][:]\n",
    "print(np.shape(x_test))\n",
    "y_test = labels[0:5000]\n",
    "print(np.shape(y_test))"
   ]
  },
  {
   "cell_type": "code",
   "execution_count": 92,
   "metadata": {},
   "outputs": [],
   "source": [
    "def accuracy(xtrain,ytrain,w1,w2):\n",
    "    dtype = torch.DoubleTensor\n",
    "    m,n = np.shape(xtrain)\n",
    "    temp = np.random.randint(m,size=(1,1000))\n",
    "    correct = 0.0\n",
    "    x = Variable(torch.from_numpy(xtrain).type(dtype),requires_grad=False)\n",
    "    for i in range(0,1000):\n",
    "        index = temp[0][i]\n",
    "        xi = x[index].view(1,n)\n",
    "        #xi = xi.unsqueeze(0)\n",
    "        #first layer weights\n",
    "        z1 = torch.mm(xi,w1)\n",
    "        #first layer activation\n",
    "        a1 = torch.tanh(z1)\n",
    "\n",
    "        #final layer\n",
    "        z3 = torch.mm(a1,w2)\n",
    "        #exp_scores = torch.exp(z3)\n",
    "        g = torch.sigmoid(z3)\n",
    "        if(g.data.numpy()>=0.5):\n",
    "            y_hatnp=1\n",
    "        else:\n",
    "            y_hatnp=0\n",
    "        if(y_hatnp==ytrain[index]):\n",
    "            correct+=1     \n",
    "    return((correct/1000)*100)\n",
    "\n",
    " \n",
    "    \n",
    "            \n",
    "        "
   ]
  },
  {
   "cell_type": "code",
   "execution_count": 121,
   "metadata": {},
   "outputs": [],
   "source": [
    "print(labels)\n",
    "dtype = torch.DoubleTensor\n",
    "y = Variable(torch.from_numpy(labels).type(dtype),requires_grad=False)\n",
    "x = Variable(torch.from_numpy(images).type(dtype),requires_grad=False)\n",
    "\n",
    "#first hidden layer\n",
    "w1 = Variable(torch.randn(height*width,500).type(dtype), requires_grad=True)\n",
    "#activation using tanh\n",
    "\n",
    "#final layer\n",
    "w2 = Variable(torch.randn(500,1).type(dtype),requires_grad=True)\n",
    "\n",
    "\n",
    "index = 0\n",
    "train_acc = np.zeros(400*5,dtype=float)\n",
    "valid_acc = np.zeros(400*5,dtype=float)\n",
    "for epoch in range(0,5):\n",
    "    print('epoch number=',epoch+1)\n",
    "    for i in range(0,40000):\n",
    "        xi = x[i].view(1,height*width)\n",
    "        #xi = xi.unsqueeze(0)\n",
    "        yi = y[i]\n",
    "\n",
    "        #first layer weights\n",
    "        z1 = torch.mm(xi,w1)\n",
    "        #first layer activation\n",
    "        a1 = torch.tanh(z1)\n",
    "        #final layer\n",
    "        z3 = torch.mm(a1,w2).clamp(min=-50.0,max=50.0)\n",
    "\n",
    "        #probability\n",
    "        g = torch.sigmoid(z3)\n",
    "        g_ = torch.sigmoid(-z3)\n",
    "        Loss = -(yi*torch.log(g) + (1-yi)*torch.log(g_))\n",
    "        #Loss = torch.clamp(first_tensor, max=0.0)\n",
    "        Loss.backward()\n",
    "        #gradient descent\n",
    "        w1.data= w1.data-0.01*w1.grad.data\n",
    "        w2.data= w2.data-0.01*w2.grad.data\n",
    "        w1.grad.data.zero_()\n",
    "        w2.grad.data.zero_()\n",
    "\n",
    "        #print(w.grad)\n",
    "        if(i%100==0):\n",
    "            train_acc[index] = accuracy(x_train,y_train,w1,w2)\n",
    "            valid_acc[index] = accuracy(x_valid,y_valid,w1,w2)\n",
    "            index+=1\n",
    "            print(i/400,'%', end=' ', flush=False)\n",
    "    clear_output()\n",
    "    \n",
    "               \n",
    "\n",
    "\n"
   ]
  },
  {
   "cell_type": "code",
   "execution_count": 123,
   "metadata": {},
   "outputs": [
    {
     "name": "stdout",
     "output_type": "stream",
     "text": [
      "average accuracy =  97.37265\n"
     ]
    },
    {
     "data": {
      "image/png": "[encoded data removed]",
      "text/plain": [
       "<matplotlib.figure.Figure at 0x11018c470>"
      ]
     },
     "metadata": {},
     "output_type": "display_data"
    }
   ],
   "source": [
    "plt.plot(train_acc)\n",
    "plt.title('Training accuracy')\n",
    "plt.ylabel('accuracy')\n",
    "plt.xlabel('iteration,(400 iterations is one epoch)')\n",
    "print('average accuracy = ',np.mean(train_acc))"
   ]
  },
  {
   "cell_type": "code",
   "execution_count": 124,
   "metadata": {},
   "outputs": [
    {
     "name": "stdout",
     "output_type": "stream",
     "text": [
      "average accuracy =  97.54385\n"
     ]
    },
    {
     "data": {
      "image/png": "[encoded data removed]",
      "text/plain": [
       "<matplotlib.figure.Figure at 0x10fe5c518>"
      ]
     },
     "metadata": {},
     "output_type": "display_data"
    }
   ],
   "source": [
    "plt.plot(valid_acc)\n",
    "plt.title('Validation accuracy')\n",
    "plt.ylabel('accuracy')\n",
    "plt.xlabel('iteration,(400 iterations is one epoch)')\n",
    "print('average accuracy = ',np.mean(valid_acc))"
   ]
  },
  {
   "cell_type": "code",
   "execution_count": null,
   "metadata": {},
   "outputs": [],
   "source": []
  }
 ],
 "metadata": {
  "kernelspec": {
   "display_name": "Python 3",
   "language": "python",
   "name": "python3"
  },
  "language_info": {
   "codemirror_mode": {
    "name": "ipython",
    "version": 3
   },
   "file_extension": ".py",
   "mimetype": "text/x-python",
   "name": "python",
   "nbconvert_exporter": "python",
   "pygments_lexer": "ipython3",
   "version": "3.6.2"
  }
 },
 "nbformat": 4,
 "nbformat_minor": 2
}
