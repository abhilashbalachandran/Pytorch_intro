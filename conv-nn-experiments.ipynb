{
 "cells": [
  {
   "cell_type": "code",
   "execution_count": 1,
   "metadata": {},
   "outputs": [],
   "source": [
    "%matplotlib inline\n",
    "import matplotlib.pyplot as plt\n",
    "import numpy as np\n",
    "from __future__ import print_function\n",
    "import torch\n",
    "from torch import autograd\n",
    "from torch.autograd import Variable\n",
    "import torch.nn.functional as F\n",
    "from IPython.display import clear_output\n",
    "import time\n",
    "\n",
    "images = np.load('/Users/abhilash/Documents/ml_project/images.npy')\n",
    "labels = np.load('/Users/abhilash/Documents/ml_project/labels.npy')\n",
    "num_images,height,width = np.shape(images)\n",
    "images = images.astype(float)\n",
    "HEIGHT = images.shape[1]\n",
    "WIDTH = images.shape[2]\n",
    "images = np.reshape(images,(num_images,height*width))\n",
    "\n",
    "labels = labels.astype(int)\n",
    "\n",
    "\n",
    "x_valid = images[45000:50000][:]\n",
    "y_valid = labels[45000:50000]\n",
    "\n",
    "\n",
    "x_train = images[0:45000][:]\n",
    "y_train = labels[0:45000]\n",
    "\n",
    "\n",
    "train_seqs = x_train\n",
    "train_labels = y_train\n",
    "\n",
    "val_seqs = x_valid\n",
    "val_labels = y_valid\n",
    "\n",
    "\n",
    "#constants\n",
    "max_count = np.bincount(train_labels)\n",
    "NUM_CLASSES = np.size(max_count)\n",
    "NUM_EXAMPLES = np.shape(train_seqs)[0]\n",
    "NUM_OPT_STEPS = 2000\n",
    "batch_size = 128;\n"
   ]
  },
  {
   "cell_type": "code",
   "execution_count": 2,
   "metadata": {},
   "outputs": [],
   "source": [
    "class TooSimpleConvNN(torch.nn.Module):\n",
    "    def __init__(self):\n",
    "        super().__init__()\n",
    "        # 3x3 convolution that takes in an image with one channel\n",
    "        # and outputs an image with 8 channels.\n",
    "        self.conv1 = torch.nn.Conv2d(1, 16, kernel_size=3)\n",
    "        # 3x3 convolution that takes in an image with 8 channels\n",
    "        # and outputs an image with 16 channels. The output image\n",
    "        # has approximately half the height and half the width\n",
    "        # because of the stride of 2.\n",
    "        self.conv2 = torch.nn.Conv2d(16, 32, kernel_size=3, stride=2)\n",
    "        # 1x1 convolution that takes in an image with 16 channels and\n",
    "        # produces an image with 5 channels. Here, the 5 channels\n",
    "        # will correspond to class scores.\n",
    "        self.final_conv = torch.nn.Conv2d(32, 5, kernel_size=1)\n",
    "    def forward(self, x):\n",
    "        # Convolutions work with images of shape\n",
    "        # [batch_size, num_channels, height, width]\n",
    "        x = x.view(-1, HEIGHT, WIDTH).unsqueeze(1)\n",
    "        x = F.relu(self.conv1(x))\n",
    "        x = F.relu(self.conv2(x))\n",
    "        n, c, h, w = x.size()\n",
    "        x = F.avg_pool2d(x, kernel_size=[h, w])\n",
    "        x = self.final_conv(x).view(-1, NUM_CLASSES)\n",
    "        return x"
   ]
  },
  {
   "cell_type": "code",
   "execution_count": 3,
   "metadata": {},
   "outputs": [],
   "source": [
    "model = TooSimpleConvNN()"
   ]
  },
  {
   "cell_type": "code",
   "execution_count": 4,
   "metadata": {},
   "outputs": [],
   "source": [
    "optimizer = torch.optim.Adam(model.parameters(), lr=1e-3)"
   ]
  },
  {
   "cell_type": "code",
   "execution_count": 5,
   "metadata": {},
   "outputs": [],
   "source": [
    "def train(batch_size):\n",
    "    #model.train() puts our model in train mode, which can require different behaviour than eval mode (for example\n",
    "    #in the case of dropout\n",
    "    #model.train()\n",
    "    #i is a 1 dimensional array with shape[batch_size]\n",
    "    i = np.random.choice(train_seqs.shape[0], size=batch_size, replace=False)\n",
    "    x = autograd.Variable(torch.from_numpy(train_seqs[i].astype(np.float32)))\n",
    "    y = autograd.Variable(torch.from_numpy(train_labels[i].astype(np.int)))\n",
    "    optimizer.zero_grad()\n",
    "    y_hat_ = model(x)\n",
    "    loss = F.cross_entropy(y_hat_, y)\n",
    "    loss.backward()\n",
    "    optimizer.step()\n",
    "    return loss.data[0]"
   ]
  },
  {
   "cell_type": "code",
   "execution_count": 6,
   "metadata": {},
   "outputs": [],
   "source": [
    "def approx_train_accuracy():\n",
    "    i = np.random.choice(train_seqs.shape[0], size=1000, replace=False)\n",
    "    x = autograd.Variable(torch.from_numpy(train_seqs[i].astype(np.float32)))\n",
    "    y = autograd.Variable(torch.from_numpy(train_labels[i].astype(np.float32)))\n",
    "    y_hat_ = model(x)\n",
    "    temp,y_hat = torch.max(y_hat_,1)\n",
    "    return accuracy(y,y_hat)\n",
    "    "
   ]
  },
  {
   "cell_type": "code",
   "execution_count": 7,
   "metadata": {},
   "outputs": [],
   "source": [
    "def approx_val_accuracy():\n",
    "    i = np.random.choice(train_seqs.shape[0], size=1000, replace=False)\n",
    "    x = autograd.Variable(torch.from_numpy(val_seqs.astype(np.float32)))\n",
    "    y = autograd.Variable(torch.from_numpy(val_labels.astype(np.float32)))\n",
    "    y_hat_ = model(x)\n",
    "    temp,y_hat = torch.max(y_hat_,1)\n",
    "    return accuracy(y,y_hat)\n",
    "    "
   ]
  },
  {
   "cell_type": "code",
   "execution_count": 8,
   "metadata": {},
   "outputs": [],
   "source": [
    "def accuracy(y,y_hat):\n",
    "    correct = np.count_nonzero(y_hat.data.numpy()==y.data.numpy())\n",
    "    return correct/y.data.shape[0]"
   ]
  },
  {
   "cell_type": "code",
   "execution_count": 9,
   "metadata": {},
   "outputs": [
    {
     "name": "stdout",
     "output_type": "stream",
     "text": [
      "     0 20.90 19.66\n",
      "   100 55.00 55.96\n",
      "   200 65.60 65.58\n",
      "   300 68.10 66.68\n",
      "   400 68.30 70.94\n",
      "   500 74.10 74.44\n",
      "   600 73.90 74.92\n",
      "   700 77.50 78.98\n",
      "   800 76.00 77.00\n",
      "   900 76.80 78.26\n",
      "  1000 79.10 79.26\n",
      "  1100 79.20 80.68\n",
      "  1200 81.50 80.86\n",
      "  1300 80.20 80.28\n",
      "  1400 80.00 78.96\n",
      "  1500 81.00 79.94\n",
      "  1600 82.70 81.38\n",
      "  1700 81.50 82.76\n",
      "  1800 80.10 81.32\n",
      "  1900 80.40 80.34\n",
      "Total training time approx. = 239.90235805511475 secs\n"
     ]
    }
   ],
   "source": [
    "#time\n",
    "t = time.time()\n",
    "#training\n",
    "train_accs, val_accs =[], []\n",
    "for i in range(NUM_OPT_STEPS):\n",
    "    loss = train(batch_size)\n",
    "    if i%100==0:\n",
    "        train_accs.append(approx_train_accuracy())\n",
    "        val_accs.append(approx_val_accuracy())\n",
    "        print(\"%6d %5.2f %5.2f\"%(i,train_accs[-1]*100,val_accs[-1]*100))\n",
    "\n",
    "elapsed = time.time() - t\n",
    "print('Total training time approx. =',elapsed,'secs')"
   ]
  },
  {
   "cell_type": "code",
   "execution_count": 10,
   "metadata": {},
   "outputs": [
    {
     "name": "stdout",
     "output_type": "stream",
     "text": [
      "average accuracy =  0.73095\n"
     ]
    },
    {
     "data": {
      "image/png": "[encoded data removed]",
      "text/plain": [
       "<matplotlib.figure.Figure at 0x1054d7c18>"
      ]
     },
     "metadata": {},
     "output_type": "display_data"
    }
   ],
   "source": [
    "plt.plot(train_accs)\n",
    "plt.title('Training accuracy')\n",
    "plt.ylabel('accuracy')\n",
    "plt.xlabel('optimization steps')\n",
    "print('average accuracy = ',np.mean(train_accs))"
   ]
  },
  {
   "cell_type": "code",
   "execution_count": 11,
   "metadata": {},
   "outputs": [
    {
     "name": "stdout",
     "output_type": "stream",
     "text": [
      "average accuracy =  0.7341\n"
     ]
    },
    {
     "data": {
      "image/png": "[encoded data removed]",
      "text/plain": [
       "<matplotlib.figure.Figure at 0x101702048>"
      ]
     },
     "metadata": {},
     "output_type": "display_data"
    }
   ],
   "source": [
    "plt.plot(val_accs)\n",
    "plt.title('Validation accuracy')\n",
    "plt.ylabel('accuracy')\n",
    "plt.xlabel('optimization steps')\n",
    "print('average accuracy = ',np.mean(val_accs))"
   ]
  },
  {
   "cell_type": "code",
   "execution_count": 12,
   "metadata": {},
   "outputs": [
    {
     "name": "stdout",
     "output_type": "stream",
     "text": [
      "     0 19.40 19.26\n",
      "   100 62.10 61.78\n",
      "   200 71.40 72.26\n",
      "   300 72.40 72.10\n",
      "   400 77.00 77.58\n",
      "   500 81.40 80.02\n",
      "   600 79.50 78.16\n",
      "   700 80.80 81.72\n",
      "   800 83.00 81.72\n",
      "   900 77.70 78.14\n",
      "  1000 81.30 80.66\n",
      "  1100 81.80 82.38\n",
      "  1200 83.70 81.66\n",
      "  1300 83.20 83.16\n",
      "  1400 82.30 83.48\n",
      "  1500 78.00 77.28\n",
      "  1600 84.30 84.32\n",
      "  1700 83.90 84.16\n",
      "  1800 84.80 84.68\n",
      "  1900 85.10 85.24\n",
      "Total training time approx. = 551.1515917778015 secs\n"
     ]
    }
   ],
   "source": [
    "#to maximize accuracy\n",
    "for m in model.children():\n",
    "    m.reset_parameters()\n",
    "\n",
    "#constant parameters\n",
    "NUM_OPT_STEPS = 2000\n",
    "batch_size = 128;\n",
    "\n",
    "#model\n",
    "class TooSimpleConvNN(torch.nn.Module):\n",
    "    def __init__(self):\n",
    "        super().__init__()\n",
    "        # 3x3 convolution that takes in an image with one channel\n",
    "        # and outputs an image with 8 channels.\n",
    "        self.conv1 = torch.nn.Conv2d(1, 16, kernel_size=3, stride=1)\n",
    "        # 3x3 convolution that takes in an image with 8 channels\n",
    "        # and outputs an image with 16 channels. The output image\n",
    "        # has approximately half the height and half the width\n",
    "        # because of the stride of 2.\n",
    "        self.conv2 = torch.nn.Conv2d(16, 48, kernel_size=3, stride=1)\n",
    "        # 1x1 convolution that takes in an image with 16 channels and\n",
    "        # produces an image with 5 channels. Here, the 5 channels\n",
    "        # will correspond to class scores.\n",
    "        self.final_conv = torch.nn.Conv2d(48, 5, kernel_size=1)\n",
    "    def forward(self, x):\n",
    "        # Convolutions work with images of shape\n",
    "        # [batch_size, num_channels, height, width]\n",
    "        x = x.view(-1, HEIGHT, WIDTH).unsqueeze(1)\n",
    "        x = F.relu(self.conv1(x))\n",
    "        x = F.relu(self.conv2(x))\n",
    "        n, c, h, w = x.size()\n",
    "        x = F.avg_pool2d(x, kernel_size=[h, w])\n",
    "        x = self.final_conv(x).view(-1, NUM_CLASSES)\n",
    "        return x\n",
    "\n",
    "model = TooSimpleConvNN()\n",
    "\n",
    "#optimizer\n",
    "optimizer = torch.optim.Adam(model.parameters(), lr=1e-3)\n",
    "\n",
    "#time\n",
    "t = time.time()\n",
    "#training\n",
    "train_accs, val_accs =[], []\n",
    "for i in range(NUM_OPT_STEPS):\n",
    "    loss = train(batch_size)\n",
    "    if i%100==0:\n",
    "        train_accs.append(approx_train_accuracy())\n",
    "        val_accs.append(approx_val_accuracy())\n",
    "        print(\"%6d %5.2f %5.2f\"%(i,train_accs[-1]*100,val_accs[-1]*100))\n",
    "\n",
    "elapsed = time.time() - t\n",
    "print('Total training time approx. =',elapsed,'secs')"
   ]
  },
  {
   "cell_type": "code",
   "execution_count": 13,
   "metadata": {},
   "outputs": [
    {
     "name": "stdout",
     "output_type": "stream",
     "text": [
      "average accuracy =  0.76655\n"
     ]
    },
    {
     "data": {
      "image/png": "[encoded data removed]",
      "text/plain": [
       "<matplotlib.figure.Figure at 0x10552be80>"
      ]
     },
     "metadata": {},
     "output_type": "display_data"
    }
   ],
   "source": [
    "plt.plot(train_accs)\n",
    "plt.title('Training accuracy')\n",
    "plt.ylabel('accuracy')\n",
    "plt.xlabel('optimization steps')\n",
    "print('average accuracy = ',np.mean(train_accs))"
   ]
  },
  {
   "cell_type": "code",
   "execution_count": 14,
   "metadata": {},
   "outputs": [
    {
     "name": "stdout",
     "output_type": "stream",
     "text": [
      "average accuracy =  0.76488\n"
     ]
    },
    {
     "data": {
      "image/png": "[encoded data removed]",
      "text/plain": [
       "<matplotlib.figure.Figure at 0x1055781d0>"
      ]
     },
     "metadata": {},
     "output_type": "display_data"
    }
   ],
   "source": [
    "plt.plot(val_accs)\n",
    "plt.title('Validation accuracy')\n",
    "plt.ylabel('accuracy')\n",
    "plt.xlabel('optimization steps')\n",
    "print('average accuracy = ',np.mean(val_accs))"
   ]
  },
  {
   "cell_type": "code",
   "execution_count": 15,
   "metadata": {},
   "outputs": [
    {
     "name": "stdout",
     "output_type": "stream",
     "text": [
      "     0 14.30 15.40\n",
      "   100 62.10 61.76\n",
      "   200 72.50 73.02\n",
      "   300 77.10 77.08\n",
      "   400 78.90 77.36\n",
      "   500 79.00 77.28\n",
      "   600 81.20 80.16\n",
      "   700 78.70 78.30\n",
      "   800 81.80 80.96\n",
      "   900 84.30 82.34\n",
      "  1000 82.70 82.50\n",
      "  1100 82.20 82.30\n",
      "  1200 83.70 83.24\n",
      "  1300 84.80 83.58\n",
      "  1400 84.40 84.00\n",
      "  1500 85.80 84.78\n",
      "  1600 84.50 83.80\n",
      "  1700 85.30 84.74\n",
      "  1800 85.40 85.54\n",
      "  1900 87.10 84.48\n",
      "Total training time approx. = 81.04666113853455 secs\n"
     ]
    }
   ],
   "source": [
    "#to maximize accuracy\n",
    "for m in model.children():\n",
    "    m.reset_parameters()\n",
    "\n",
    "#constant parameters\n",
    "NUM_OPT_STEPS = 2000\n",
    "batch_size = 128;\n",
    "\n",
    "#model\n",
    "class TooSimpleConvNN(torch.nn.Module):\n",
    "    def __init__(self):\n",
    "        super().__init__()\n",
    "        # 3x3 convolution that takes in an image with one channel\n",
    "        # and outputs an image with 8 channels.\n",
    "        self.conv1 = torch.nn.Conv2d(1, 16, kernel_size=3, stride=2)\n",
    "        # 3x3 convolution that takes in an image with 8 channels\n",
    "        # and outputs an image with 16 channels. The output image\n",
    "        # has approximately half the height and half the width\n",
    "        # because of the stride of 2.\n",
    "        self.conv2 = torch.nn.Conv2d(16, 48, kernel_size=3, stride=2)\n",
    "        # 1x1 convolution that takes in an image with 16 channels and\n",
    "        # produces an image with 5 channels. Here, the 5 channels\n",
    "        # will correspond to class scores.\n",
    "        self.final_conv = torch.nn.Conv2d(48, 5, kernel_size=1)\n",
    "    def forward(self, x):\n",
    "        # Convolutions work with images of shape\n",
    "        # [batch_size, num_channels, height, width]\n",
    "        x = x.view(-1, HEIGHT, WIDTH).unsqueeze(1)\n",
    "        x = F.relu(self.conv1(x))\n",
    "        x = F.relu(self.conv2(x))\n",
    "        n, c, h, w = x.size()\n",
    "        x = F.avg_pool2d(x, kernel_size=[h, w])\n",
    "        x = self.final_conv(x).view(-1, NUM_CLASSES)\n",
    "        return x\n",
    "\n",
    "model = TooSimpleConvNN()\n",
    "\n",
    "#optimizer\n",
    "optimizer = torch.optim.Adam(model.parameters(), lr=1e-3)\n",
    "\n",
    "#time\n",
    "t = time.time()\n",
    "#training\n",
    "train_accs, val_accs =[], []\n",
    "for i in range(NUM_OPT_STEPS):\n",
    "    loss = train(batch_size)\n",
    "    if i%100==0:\n",
    "        train_accs.append(approx_train_accuracy())\n",
    "        val_accs.append(approx_val_accuracy())\n",
    "        print(\"%6d %5.2f %5.2f\"%(i,train_accs[-1]*100,val_accs[-1]*100))\n",
    "\n",
    "elapsed = time.time() - t\n",
    "print('Total training time approx. =',elapsed,'secs')"
   ]
  },
  {
   "cell_type": "code",
   "execution_count": 16,
   "metadata": {},
   "outputs": [
    {
     "name": "stdout",
     "output_type": "stream",
     "text": [
      "average accuracy =  0.7779\n"
     ]
    },
    {
     "data": {
      "image/png": "[encoded data removed]",
      "text/plain": [
       "<matplotlib.figure.Figure at 0x1062c63c8>"
      ]
     },
     "metadata": {},
     "output_type": "display_data"
    }
   ],
   "source": [
    "plt.plot(train_accs)\n",
    "plt.title('Training accuracy')\n",
    "plt.ylabel('accuracy')\n",
    "plt.xlabel('optimization steps')\n",
    "print('average accuracy = ',np.mean(train_accs))"
   ]
  },
  {
   "cell_type": "code",
   "execution_count": 17,
   "metadata": {},
   "outputs": [
    {
     "name": "stdout",
     "output_type": "stream",
     "text": [
      "average accuracy =  0.77131\n"
     ]
    },
    {
     "data": {
      "image/png": "[encoded data removed]",
      "text/plain": [
       "<matplotlib.figure.Figure at 0x1063953c8>"
      ]
     },
     "metadata": {},
     "output_type": "display_data"
    }
   ],
   "source": [
    "plt.plot(val_accs)\n",
    "plt.title('Validation accuracy')\n",
    "plt.ylabel('accuracy')\n",
    "plt.xlabel('optimization steps')\n",
    "print('average accuracy = ',np.mean(val_accs))"
   ]
  },
  {
   "cell_type": "code",
   "execution_count": 18,
   "metadata": {},
   "outputs": [
    {
     "name": "stdout",
     "output_type": "stream",
     "text": [
      "Max training accuracy= 0.871 for 2000 optimization steps\n",
      "Max validation accuracy= 0.8554 for 2000 optimization steps\n",
      "batch_size= 128\n",
      "Learning rate= 0.001\n",
      "optimizer = Adam\n",
      "Total training time approx. = 81.04666113853455 secs\n"
     ]
    }
   ],
   "source": [
    "print('Max training accuracy=',np.max(train_accs), 'for',NUM_OPT_STEPS ,'optimization steps')\n",
    "print('Max validation accuracy=',np.max(val_accs), 'for',NUM_OPT_STEPS, 'optimization steps')\n",
    "print('batch_size=',batch_size)\n",
    "print('Learning rate=',1e-3)\n",
    "print('optimizer = Adam')\n",
    "print('Total training time approx. =',elapsed,'secs')"
   ]
  },
  {
   "cell_type": "markdown",
   "metadata": {},
   "source": [
    "I feel that we are overfitting the data since i havent performed dropouts. To increase the performance further, we can imcrease the layers, add more filters and add dropouts. This is explored in 14"
   ]
  },
  {
   "cell_type": "code",
   "execution_count": null,
   "metadata": {},
   "outputs": [],
   "source": []
  }
 ],
 "metadata": {
  "kernelspec": {
   "display_name": "Python 3",
   "language": "python",
   "name": "python3"
  },
  "language_info": {
   "codemirror_mode": {
    "name": "ipython",
    "version": 3
   },
   "file_extension": ".py",
   "mimetype": "text/x-python",
   "name": "python",
   "nbconvert_exporter": "python",
   "pygments_lexer": "ipython3",
   "version": "3.6.2"
  }
 },
 "nbformat": 4,
 "nbformat_minor": 2
}
