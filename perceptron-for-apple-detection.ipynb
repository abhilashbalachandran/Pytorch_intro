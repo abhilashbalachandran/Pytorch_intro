{
 "cells": [
  {
   "cell_type": "code",
   "execution_count": 593,
   "metadata": {},
   "outputs": [
    {
     "name": "stdout",
     "output_type": "stream",
     "text": [
      "50000\n",
      "[ 1 -1 -1 ...,  1  1  1]\n"
     ]
    }
   ],
   "source": [
    "%matplotlib inline\n",
    "import matplotlib.pyplot as plt\n",
    "import numpy as np\n",
    "from __future__ import print_function\n",
    "import torch\n",
    "from torch.autograd import Variable\n",
    "from IPython.display import clear_output\n",
    "\n",
    "images = np.load('/Users/abhilash/Documents/ml_project/images.npy')\n",
    "labels = np.load('/Users/abhilash/Documents/ml_project/labels.npy')\n",
    "num_images,height,width = np.shape(images)\n",
    "images = np.reshape(images,(num_images,height*width))\n",
    "np.shape(images)\n",
    "print(num_images)\n",
    "\n",
    "images = images/255\n",
    "labels = labels.astype(int)\n",
    "labels[labels==0]=-1\n",
    "labels[labels!=-1]=1\n",
    "print(labels)\n",
    "\n",
    "#majority_vote_label = np.argmax(np.bincount(labels))\n",
    "#print(majority_vote_label)\n",
    "#correct = 0\n",
    "#incorrect = 0\n",
    "#for i in range(0,50000):\n",
    " #   if(labels[i]==majority_vote_label):\n",
    " #       correct+=1\n",
    "#print(correct/50000)"
   ]
  },
  {
   "cell_type": "code",
   "execution_count": 594,
   "metadata": {},
   "outputs": [
    {
     "name": "stdout",
     "output_type": "stream",
     "text": [
      "[ 1 -1 -1 ...,  1  1  1]\n"
     ]
    }
   ],
   "source": [
    "#labels[labels==0]=-1\n",
    "\n",
    "print(labels)"
   ]
  },
  {
   "cell_type": "code",
   "execution_count": 595,
   "metadata": {},
   "outputs": [
    {
     "name": "stdout",
     "output_type": "stream",
     "text": [
      "(5000, 676)\n",
      "(5000,)\n"
     ]
    }
   ],
   "source": [
    "x_valid = images[0:5000][:]\n",
    "print(np.shape(x_valid))\n",
    "y_valid = labels[0:5000]\n",
    "print(np.shape(y_valid))"
   ]
  },
  {
   "cell_type": "code",
   "execution_count": 596,
   "metadata": {},
   "outputs": [
    {
     "name": "stdout",
     "output_type": "stream",
     "text": [
      "(40000, 676)\n",
      "(40000,)\n"
     ]
    }
   ],
   "source": [
    "x_train = images[0:40000][:]\n",
    "print(np.shape(x_train))\n",
    "y_train = labels[0:40000]\n",
    "print(np.shape(y_train))"
   ]
  },
  {
   "cell_type": "code",
   "execution_count": 597,
   "metadata": {},
   "outputs": [
    {
     "name": "stdout",
     "output_type": "stream",
     "text": [
      "(5000, 676)\n",
      "(5000,)\n"
     ]
    }
   ],
   "source": [
    "x_test = images[0:5000][:]\n",
    "print(np.shape(x_test))\n",
    "y_test = labels[0:5000]\n",
    "print(np.shape(y_test))"
   ]
  },
  {
   "cell_type": "markdown",
   "metadata": {},
   "source": [
    "Tossing a coin would give an accuracy of 50% while the majority vote classifier gives an accuracy of 80% "
   ]
  },
  {
   "cell_type": "code",
   "execution_count": 630,
   "metadata": {},
   "outputs": [],
   "source": [
    "print(labels)\n",
    "dtype = torch.DoubleTensor\n",
    "w = Variable(torch.zeros(height*width).type(dtype), requires_grad=True)\n",
    "y = Variable(torch.from_numpy(labels).type(dtype),requires_grad=False)\n",
    "x = Variable(torch.from_numpy(images).type(dtype),requires_grad=False)\n",
    "index = 0\n",
    "train_acc = np.zeros(400*5,dtype=float)\n",
    "valid_acc = np.zeros(400*5,dtype=float)\n",
    "for epoch in range(0,5):\n",
    "    print('epoch number=',epoch+1)\n",
    "    for i in range(0,40000):\n",
    "        xi = x[i]\n",
    "        yi = y[i]\n",
    "        y_hat = torch.sign(torch.dot(w,xi))\n",
    "        y_hatnp = y_hat.data.numpy()\n",
    "        #print('y_hat=',y_hatnp)\n",
    "        first_tensor = -yi*torch.dot(w,xi)\n",
    "        second_tensor = Variable(torch.DoubleTensor([0.0]))\n",
    "        Loss = torch.max(torch.cat((first_tensor, second_tensor), 0))\n",
    "        #Loss = torch.clamp(first_tensor, max=0.0)\n",
    "        Loss.backward()\n",
    "        #print('gradient',w.grad.data)\n",
    "        w.data= w.data-0.01*w.grad.data\n",
    "        w.grad.data.zero_()\n",
    "        #print(w.grad)\n",
    "        if(i%100==0):\n",
    "            train_acc[index] = accuracy(x_train,y_train,w)\n",
    "            valid_acc[index] = accuracy(x_valid,y_valid,w)\n",
    "            index+=1\n",
    "            print(i/400,'%', end=' ', flush=False)\n",
    "    clear_output()\n",
    "\n",
    "               \n"
   ]
  },
  {
   "cell_type": "code",
   "execution_count": 522,
   "metadata": {},
   "outputs": [],
   "source": [
    "def accuracy(xtrain,ytrain,w):\n",
    "    dtype = torch.DoubleTensor\n",
    "    m,n = np.shape(xtrain)\n",
    "    temp = np.random.randint(m,size=(1,1000))\n",
    "    correct = 0.0\n",
    "    x = Variable(torch.from_numpy(xtrain).type(dtype),requires_grad=False)\n",
    "    for i in range(0,1000):\n",
    "        index = temp[0][i]\n",
    "        xi = x[index]\n",
    "        y_hat = torch.sign(torch.dot(w,xi))\n",
    "        y_hatnp = y_hat.data.numpy()\n",
    "        if(y_hatnp==ytrain[index]):\n",
    "            correct+=1   \n",
    "    return((correct/1000)*100)"
   ]
  },
  {
   "cell_type": "code",
   "execution_count": 631,
   "metadata": {},
   "outputs": [
    {
     "name": "stdout",
     "output_type": "stream",
     "text": [
      "average accuracy =  94.47135\n"
     ]
    },
    {
     "data": {
      "image/png": "[encoded data removed]",
      "text/plain": [
       "<matplotlib.figure.Figure at 0x10d5562b0>"
      ]
     },
     "metadata": {},
     "output_type": "display_data"
    }
   ],
   "source": [
    "plt.plot(train_acc)\n",
    "plt.title('Training accuracy')\n",
    "plt.ylabel('accuracy')\n",
    "plt.xlabel('iteration,(400 iterations is one epoch)')\n",
    "print('average accuracy = ',np.mean(train_acc))"
   ]
  },
  {
   "cell_type": "code",
   "execution_count": 632,
   "metadata": {},
   "outputs": [
    {
     "name": "stdout",
     "output_type": "stream",
     "text": [
      "average accuracy =  94.03585\n"
     ]
    },
    {
     "data": {
      "image/png": "[encoded data removed]",
      "text/plain": [
       "<matplotlib.figure.Figure at 0x10d4484a8>"
      ]
     },
     "metadata": {},
     "output_type": "display_data"
    }
   ],
   "source": [
    "plt.plot(valid_acc)\n",
    "plt.title('Validation accuracy')\n",
    "plt.ylabel('accuracy')\n",
    "plt.xlabel('iteration,(400 iterations is one epoch)')\n",
    "print('average accuracy = ',np.mean(valid_acc))"
   ]
  },
  {
   "cell_type": "markdown",
   "metadata": {},
   "source": [
    "Yes, you are overfitting the data here (it tries to capture the noise in the training data)"
   ]
  },
  {
   "cell_type": "code",
   "execution_count": null,
   "metadata": {},
   "outputs": [],
   "source": []
  }
 ],
 "metadata": {
  "kernelspec": {
   "display_name": "Python 3",
   "language": "python",
   "name": "python3"
  },
  "language_info": {
   "codemirror_mode": {
    "name": "ipython",
    "version": 3
   },
   "file_extension": ".py",
   "mimetype": "text/x-python",
   "name": "python",
   "nbconvert_exporter": "python",
   "pygments_lexer": "ipython3",
   "version": "3.6.2"
  }
 },
 "nbformat": 4,
 "nbformat_minor": 2
}
