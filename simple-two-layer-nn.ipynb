{
 "cells": [
  {
   "cell_type": "code",
   "execution_count": 145,
   "metadata": {},
   "outputs": [],
   "source": [
    "%matplotlib inline\n",
    "import matplotlib.pyplot as plt\n",
    "import numpy as np\n",
    "from __future__ import print_function\n",
    "import torch\n",
    "from torch import autograd\n",
    "from torch.autograd import Variable\n",
    "import torch.nn.functional as F\n",
    "from IPython.display import clear_output\n",
    "import time\n",
    "\n",
    "images = np.load('images.npy')\n",
    "labels = np.load('labels.npy')\n",
    "num_images,height,width = np.shape(images)\n",
    "images = images.astype(float)\n",
    "images = np.reshape(images,(num_images,height*width))/255.0\n",
    "\n",
    "\n",
    "labels = labels.astype(int)\n",
    "\n",
    "\n",
    "\n",
    "x_valid = images[45000:50000][:]\n",
    "#print(np.shape(x_valid))\n",
    "y_valid = labels[45000:50000]\n",
    "#print(np.shape(y_valid))\n",
    "\n",
    "x_train = images[0:45000][:]\n",
    "#print(np.shape(x_train))\n",
    "y_train = labels[0:45000]\n",
    "#print(np.shape(y_train))\n",
    "\n",
    "\n",
    "train_seqs = x_train\n",
    "train_labels = y_train\n",
    "\n",
    "val_seqs = x_valid\n",
    "val_labels = y_valid\n",
    "\n",
    "\n",
    "#constants\n",
    "HEIGHT = np.shape(train_seqs)[1]\n",
    "WIDTH = 1\n",
    "max_count = np.bincount(train_labels)\n",
    "NUM_CLASSES = np.size(max_count)\n",
    "NUM_EXAMPLES = np.shape(train_seqs)[0]\n",
    "NUM_OPT_STEPS = 5000\n",
    "batch_size = 1;\n",
    "\n",
    "\n"
   ]
  },
  {
   "cell_type": "code",
   "execution_count": 146,
   "metadata": {},
   "outputs": [],
   "source": [
    "#2 layer neural network model\n",
    "class TwoLayerNN(torch.nn.Module):\n",
    "    def __init__(self):\n",
    "        super().__init__()\n",
    "        self.linear1 = torch.nn.Linear(HEIGHT*WIDTH, 100)\n",
    "        self.linear2 = torch.nn.Linear(100, 5)\n",
    "    def forward(self, x):\n",
    "        x = self.linear1(x)\n",
    "        x = F.relu(x)\n",
    "        x = self.linear2(x)\n",
    "        return x\n",
    "\n",
    "model = TwoLayerNN()\n",
    "\n",
    "optimizer = torch.optim.Adam(model.parameters(), lr=1e-3)\n",
    "\n",
    "def train(batch_size):\n",
    "    #model.train() puts our model in train mode, which can require different behaviour than eval mode (for example\n",
    "    #in the case of dropout\n",
    "    #model.train()\n",
    "    #i is a 1 dimensional array with shape[batch_size]\n",
    "    i = np.random.choice(train_seqs.shape[0], size=batch_size, replace=False)\n",
    "    x = autograd.Variable(torch.from_numpy(train_seqs[i].astype(np.float32)))\n",
    "    y = autograd.Variable(torch.from_numpy(train_labels[i].astype(np.int)))\n",
    "    optimizer.zero_grad()\n",
    "    y_hat_ = model(x)\n",
    "    loss = F.cross_entropy(y_hat_, y)\n",
    "    loss.backward()\n",
    "    optimizer.step()\n",
    "    return loss.data[0]\n",
    "\n",
    "def approx_train_accuracy():\n",
    "    i = np.random.choice(train_seqs.shape[0], size=1000, replace=False)\n",
    "    x = autograd.Variable(torch.from_numpy(train_seqs[i].astype(np.float32)))\n",
    "    y = autograd.Variable(torch.from_numpy(train_labels[i].astype(np.float32)))\n",
    "    y_hat_ = model(x)\n",
    "    temp,y_hat = torch.max(y_hat_,1)\n",
    "    return accuracy(y,y_hat)\n",
    "    \n",
    "\n",
    "def approx_val_accuracy():\n",
    "    i = np.random.choice(train_seqs.shape[0], size=1000, replace=False)\n",
    "    x = autograd.Variable(torch.from_numpy(val_seqs.astype(np.float32)))\n",
    "    y = autograd.Variable(torch.from_numpy(val_labels.astype(np.float32)))\n",
    "    y_hat_ = model(x)\n",
    "    temp,y_hat = torch.max(y_hat_,1)\n",
    "    return accuracy(y,y_hat)\n",
    "    \n",
    "\n",
    "def accuracy(y,y_hat):\n",
    "    correct = np.count_nonzero(y_hat.data.numpy()==y.data.numpy())\n",
    "    return correct/y.data.shape[0]"
   ]
  },
  {
   "cell_type": "code",
   "execution_count": 147,
   "metadata": {},
   "outputs": [
    {
     "name": "stdout",
     "output_type": "stream",
     "text": [
      "     0 19.30 20.58\n",
      "   100 33.50 31.56\n",
      "   200 59.90 60.36\n",
      "   300 60.60 60.22\n",
      "   400 65.60 63.72\n",
      "   500 63.10 65.72\n",
      "   600 69.50 71.40\n",
      "   700 68.90 69.02\n",
      "   800 70.40 70.08\n",
      "   900 68.80 68.80\n",
      "  1000 74.20 72.92\n",
      "  1100 68.40 71.02\n",
      "  1200 71.90 70.50\n",
      "  1300 71.40 73.32\n",
      "  1400 68.10 69.76\n",
      "  1500 69.90 71.18\n",
      "  1600 68.20 70.24\n",
      "  1700 71.30 72.28\n",
      "  1800 73.00 73.18\n",
      "  1900 70.90 70.38\n",
      "  2000 72.70 75.12\n",
      "  2100 71.50 71.32\n",
      "  2200 73.50 73.48\n",
      "  2300 71.30 74.56\n",
      "  2400 71.00 73.30\n",
      "  2500 72.40 72.50\n",
      "  2600 72.80 72.46\n",
      "  2700 72.10 72.16\n",
      "  2800 74.20 73.64\n",
      "  2900 71.00 72.94\n",
      "  3000 68.60 68.56\n",
      "  3100 73.40 72.52\n",
      "  3200 73.20 75.56\n",
      "  3300 72.40 75.44\n",
      "  3400 74.20 73.68\n",
      "  3500 74.40 74.06\n",
      "  3600 74.90 76.14\n",
      "  3700 75.20 74.84\n",
      "  3800 73.60 74.50\n",
      "  3900 75.60 76.14\n",
      "  4000 71.60 75.32\n",
      "  4100 73.50 75.54\n",
      "  4200 76.30 75.20\n",
      "  4300 73.30 75.10\n",
      "  4400 75.30 75.72\n",
      "  4500 72.10 73.68\n",
      "  4600 69.70 73.58\n",
      "  4700 78.80 76.16\n",
      "  4800 74.70 75.42\n",
      "  4900 69.70 71.82\n",
      "Total training time approx. = 23.62570309638977 secs\n"
     ]
    }
   ],
   "source": [
    "for m in model.children():\n",
    "    m.reset_parameters()\n",
    "\n",
    "NUM_OPT_STEPS = 5000\n",
    "batch_size = 1;\n",
    "\n",
    "\n",
    "t = time.time()\n",
    "\n",
    "train_accs, val_accs =[], []\n",
    "for i in range(NUM_OPT_STEPS):\n",
    "    loss = train(batch_size)\n",
    "    if i%100==0:\n",
    "        train_accs.append(approx_train_accuracy())\n",
    "        val_accs.append(approx_val_accuracy())\n",
    "        print(\"%6d %5.2f %5.2f\"%(i,train_accs[-1]*100,val_accs[-1]*100))\n",
    "        \n",
    "elapsed = time.time() - t\n",
    "print('Total training time approx. =',elapsed,'secs')"
   ]
  },
  {
   "cell_type": "code",
   "execution_count": 148,
   "metadata": {},
   "outputs": [
    {
     "name": "stdout",
     "output_type": "stream",
     "text": [
      "average accuracy =  0.69598\n"
     ]
    },
    {
     "data": {
      "image/png": "[encoded data removed]",
      "text/plain": [
       "<matplotlib.figure.Figure at 0x10fb43160>"
      ]
     },
     "metadata": {},
     "output_type": "display_data"
    }
   ],
   "source": [
    "plt.plot(train_accs)\n",
    "plt.title('Training accuracy')\n",
    "plt.ylabel('accuracy')\n",
    "plt.xlabel('optimization steps')\n",
    "print('average accuracy = ',np.mean(train_accs))"
   ]
  },
  {
   "cell_type": "code",
   "execution_count": 149,
   "metadata": {},
   "outputs": [
    {
     "name": "stdout",
     "output_type": "stream",
     "text": [
      "average accuracy =  0.70334\n"
     ]
    },
    {
     "data": {
      "image/png": "[encoded data removed]",
      "text/plain": [
       "<matplotlib.figure.Figure at 0x10fba8390>"
      ]
     },
     "metadata": {},
     "output_type": "display_data"
    }
   ],
   "source": [
    "plt.plot(val_accs)\n",
    "plt.title('Validation accuracy')\n",
    "plt.ylabel('accuracy')\n",
    "plt.xlabel('optimization steps')\n",
    "print('average accuracy = ',np.mean(val_accs))"
   ]
  },
  {
   "cell_type": "code",
   "execution_count": 151,
   "metadata": {},
   "outputs": [
    {
     "name": "stdout",
     "output_type": "stream",
     "text": [
      "Max training accuracy= 0.788 for 5000 optimization steps\n",
      "Max validation accuracy= 0.7616 for 5000 optimization steps\n",
      "batch_size= 1\n",
      "Learning rate= 0.001\n",
      "optimizer = Adam\n",
      "Total training time approx. = 23.62570309638977 secs\n"
     ]
    }
   ],
   "source": [
    "print('Max training accuracy=',np.max(train_accs), 'for',NUM_OPT_STEPS ,'optimization steps')\n",
    "print('Max validation accuracy=',np.max(val_accs), 'for',NUM_OPT_STEPS, 'optimization steps')\n",
    "print('batch_size=',batch_size)\n",
    "print('Learning rate=',1e-3)\n",
    "print('optimizer = Adam')\n",
    "print('Total training time approx. =',elapsed,'secs')"
   ]
  },
  {
   "cell_type": "code",
   "execution_count": 152,
   "metadata": {},
   "outputs": [],
   "source": [
    "for m in model.children():\n",
    "    m.reset_parameters()"
   ]
  },
  {
   "cell_type": "code",
   "execution_count": 153,
   "metadata": {},
   "outputs": [],
   "source": [
    "#retraining the network with different parameters\n",
    "#constants\n",
    "HEIGHT = np.shape(train_seqs)[1]\n",
    "WIDTH = 1\n",
    "max_count = np.bincount(train_labels)\n",
    "NUM_CLASSES = np.size(max_count)\n",
    "NUM_EXAMPLES = np.shape(train_seqs)[0]\n",
    "NUM_OPT_STEPS = 5000\n",
    "batch_size = 10;\n",
    "\n",
    "optimizer = torch.optim.Adam(model.parameters(), lr=1e-3)"
   ]
  },
  {
   "cell_type": "code",
   "execution_count": 154,
   "metadata": {},
   "outputs": [
    {
     "name": "stdout",
     "output_type": "stream",
     "text": [
      "     0 20.20 20.38\n",
      "   100 67.20 66.56\n",
      "   200 72.90 73.60\n",
      "   300 74.20 73.98\n",
      "   400 75.00 76.22\n",
      "   500 77.10 77.94\n",
      "   600 72.50 73.48\n",
      "   700 76.10 77.28\n",
      "   800 77.30 78.34\n",
      "   900 76.60 76.48\n",
      "  1000 78.30 79.12\n",
      "  1100 77.50 78.70\n",
      "  1200 78.50 77.90\n",
      "  1300 80.50 79.80\n",
      "  1400 79.90 80.14\n",
      "  1500 80.80 80.34\n",
      "  1600 79.90 81.18\n",
      "  1700 81.60 81.02\n",
      "  1800 79.20 79.22\n",
      "  1900 80.70 80.84\n",
      "  2000 79.60 81.36\n",
      "  2100 80.00 80.50\n",
      "  2200 81.30 81.38\n",
      "  2300 81.30 81.44\n",
      "  2400 80.60 81.16\n",
      "  2500 82.10 81.08\n",
      "  2600 80.90 81.66\n",
      "  2700 82.30 81.90\n",
      "  2800 81.10 82.20\n",
      "  2900 85.60 82.84\n",
      "  3000 82.30 82.74\n",
      "  3100 79.10 81.62\n",
      "  3200 81.40 82.26\n",
      "  3300 82.60 82.58\n",
      "  3400 83.40 82.78\n",
      "  3500 82.50 82.56\n",
      "  3600 84.90 83.48\n",
      "  3700 83.80 83.02\n",
      "  3800 83.30 83.44\n",
      "  3900 84.80 83.66\n",
      "  4000 83.30 83.24\n",
      "  4100 83.00 82.82\n",
      "  4200 83.40 82.86\n",
      "  4300 82.20 83.88\n",
      "  4400 84.00 83.54\n",
      "  4500 84.40 82.84\n",
      "  4600 84.60 83.50\n",
      "  4700 86.10 84.22\n",
      "  4800 84.60 84.14\n",
      "  4900 83.70 82.46\n",
      "Total training time approx. = 21.584566831588745 secs\n"
     ]
    }
   ],
   "source": [
    "t = time.time()\n",
    "\n",
    "train_accs, val_accs =[], []\n",
    "for i in range(NUM_OPT_STEPS):\n",
    "    loss = train(batch_size)\n",
    "    if i%100==0:\n",
    "        train_accs.append(approx_train_accuracy())\n",
    "        val_accs.append(approx_val_accuracy())\n",
    "        print(\"%6d %5.2f %5.2f\"%(i,train_accs[-1]*100,val_accs[-1]*100))\n",
    "        \n",
    "elapsed = time.time() - t\n",
    "print('Total training time approx. =',elapsed,'secs')"
   ]
  },
  {
   "cell_type": "code",
   "execution_count": 155,
   "metadata": {},
   "outputs": [
    {
     "name": "stdout",
     "output_type": "stream",
     "text": [
      "average accuracy =  0.79364\n"
     ]
    },
    {
     "data": {
      "image/png": "[encoded data removed]",
      "text/plain": [
       "<matplotlib.figure.Figure at 0x10f9de4a8>"
      ]
     },
     "metadata": {},
     "output_type": "display_data"
    }
   ],
   "source": [
    "plt.plot(train_accs)\n",
    "plt.title('Training accuracy')\n",
    "plt.ylabel('accuracy')\n",
    "plt.xlabel('optimization steps')\n",
    "print('average accuracy = ',np.mean(train_accs))"
   ]
  },
  {
   "cell_type": "code",
   "execution_count": 156,
   "metadata": {},
   "outputs": [
    {
     "name": "stdout",
     "output_type": "stream",
     "text": [
      "average accuracy =  0.793936\n"
     ]
    },
    {
     "data": {
      "image/png": "[encoded data removed]",
      "text/plain": [
       "<matplotlib.figure.Figure at 0x10b809710>"
      ]
     },
     "metadata": {},
     "output_type": "display_data"
    }
   ],
   "source": [
    "plt.plot(val_accs)\n",
    "plt.title('Validation accuracy')\n",
    "plt.ylabel('accuracy')\n",
    "plt.xlabel('optimization steps')\n",
    "print('average accuracy = ',np.mean(val_accs))"
   ]
  },
  {
   "cell_type": "code",
   "execution_count": 157,
   "metadata": {},
   "outputs": [
    {
     "name": "stdout",
     "output_type": "stream",
     "text": [
      "Max training accuracy= 0.861 for 5000 optimization steps\n",
      "Max validation accuracy= 0.8422 for 5000 optimization steps\n",
      "batch_size= 10\n",
      "Learning rate= 0.001\n",
      "optimizer = Adam\n",
      "Total training time approx. = 21.584566831588745 secs\n"
     ]
    }
   ],
   "source": [
    "print('Max training accuracy=',np.max(train_accs), 'for',NUM_OPT_STEPS ,'optimization steps')\n",
    "print('Max validation accuracy=',np.max(val_accs), 'for',NUM_OPT_STEPS, 'optimization steps')\n",
    "print('batch_size=',batch_size)\n",
    "print('Learning rate=',1e-3)\n",
    "print('optimizer = Adam')\n",
    "print('Total training time approx. =',elapsed,'secs')"
   ]
  },
  {
   "cell_type": "code",
   "execution_count": 158,
   "metadata": {},
   "outputs": [
    {
     "name": "stdout",
     "output_type": "stream",
     "text": [
      "     0 45.50 46.74\n",
      "   100 78.20 77.96\n",
      "   200 77.80 79.78\n",
      "   300 83.20 80.76\n",
      "   400 83.40 82.02\n",
      "   500 83.50 83.08\n",
      "   600 85.00 83.26\n",
      "   700 84.60 83.88\n",
      "   800 84.70 84.54\n",
      "   900 85.60 84.78\n",
      "  1000 84.60 85.12\n",
      "  1100 87.00 84.74\n",
      "  1200 87.40 85.56\n",
      "  1300 89.50 86.02\n",
      "  1400 87.40 86.18\n",
      "  1500 88.90 86.16\n",
      "  1600 89.40 86.80\n",
      "  1700 90.40 86.14\n",
      "  1800 88.80 86.48\n",
      "  1900 89.00 86.22\n",
      "  2000 89.70 86.64\n",
      "  2100 90.40 86.58\n",
      "  2200 87.60 86.12\n",
      "  2300 91.50 86.48\n",
      "  2400 91.10 86.92\n",
      "  2500 90.20 86.70\n",
      "  2600 93.00 86.14\n",
      "  2700 90.80 86.14\n",
      "  2800 93.00 86.64\n",
      "  2900 92.30 86.78\n",
      "  3000 93.10 86.56\n",
      "  3100 92.40 86.70\n",
      "  3200 93.60 86.52\n",
      "  3300 93.30 86.28\n",
      "  3400 94.00 87.00\n",
      "  3500 93.40 86.58\n",
      "  3600 94.40 86.46\n",
      "  3700 94.80 86.32\n",
      "  3800 93.80 86.46\n",
      "  3900 92.70 86.86\n",
      "  4000 94.00 86.50\n",
      "  4100 95.00 86.42\n",
      "  4200 93.40 86.72\n",
      "  4300 93.80 86.16\n",
      "  4400 94.00 85.94\n",
      "  4500 95.50 85.92\n",
      "  4600 94.40 86.54\n",
      "  4700 95.20 86.54\n",
      "  4800 94.80 86.66\n",
      "  4900 95.90 86.38\n",
      "Total training time approx. = 35.722007036209106 secs\n"
     ]
    }
   ],
   "source": [
    "#retraining to maximize accuracy\n",
    "\n",
    "for m in model.children():\n",
    "    m.reset_parameters()\n",
    "\n",
    "#retraining the network with different parameters\n",
    "#constants\n",
    "HEIGHT = np.shape(train_seqs)[1]\n",
    "WIDTH = 1\n",
    "max_count = np.bincount(train_labels)\n",
    "NUM_CLASSES = np.size(max_count)\n",
    "NUM_EXAMPLES = np.shape(train_seqs)[0]\n",
    "NUM_OPT_STEPS = 5000\n",
    "batch_size = 256\n",
    "\n",
    "optimizer = torch.optim.Adam(model.parameters(), lr=1e-3)\n",
    "\n",
    "#time\n",
    "t = time.time()\n",
    "train_accs, val_accs =[], []\n",
    "for i in range(NUM_OPT_STEPS):\n",
    "    loss = train(batch_size)\n",
    "    if i%100==0:\n",
    "        train_accs.append(approx_train_accuracy())\n",
    "        val_accs.append(approx_val_accuracy())\n",
    "        print(\"%6d %5.2f %5.2f\"%(i,train_accs[-1]*100,val_accs[-1]*100))\n",
    "        \n",
    "elapsed = time.time() - t\n",
    "print('Total training time approx. =',elapsed,'secs')"
   ]
  },
  {
   "cell_type": "code",
   "execution_count": 159,
   "metadata": {},
   "outputs": [
    {
     "name": "stdout",
     "output_type": "stream",
     "text": [
      "average accuracy =  0.893\n"
     ]
    },
    {
     "data": {
      "image/png": "[encoded data removed]",
      "text/plain": [
       "<matplotlib.figure.Figure at 0x11151c668>"
      ]
     },
     "metadata": {},
     "output_type": "display_data"
    }
   ],
   "source": [
    "plt.plot(train_accs)\n",
    "plt.title('Training accuracy')\n",
    "plt.ylabel('accuracy')\n",
    "plt.xlabel('iteration')\n",
    "print('average accuracy = ',np.mean(train_accs))"
   ]
  },
  {
   "cell_type": "code",
   "execution_count": 160,
   "metadata": {},
   "outputs": [
    {
     "name": "stdout",
     "output_type": "stream",
     "text": [
      "average accuracy =  0.848176\n"
     ]
    },
    {
     "data": {
      "image/png": "[encoded data removed]",
      "text/plain": [
       "<matplotlib.figure.Figure at 0x10b812160>"
      ]
     },
     "metadata": {},
     "output_type": "display_data"
    }
   ],
   "source": [
    "plt.plot(val_accs)\n",
    "plt.title('Validation accuracy')\n",
    "plt.ylabel('accuracy')\n",
    "print('average accuracy = ',np.mean(val_accs))"
   ]
  },
  {
   "cell_type": "code",
   "execution_count": 161,
   "metadata": {},
   "outputs": [
    {
     "name": "stdout",
     "output_type": "stream",
     "text": [
      "Max training accuracy= 0.959 for 5000 optimization steps\n",
      "Max validation accuracy= 0.87 for 5000 optimization steps\n",
      "batch_size= 256\n",
      "Learning rate= 0.001\n",
      "optimizer = Adam\n",
      "Total training time approx. = 35.722007036209106 secs\n"
     ]
    }
   ],
   "source": [
    "print('Max training accuracy=',np.max(train_accs), 'for',NUM_OPT_STEPS ,'optimization steps')\n",
    "print('Max validation accuracy=',np.max(val_accs), 'for',NUM_OPT_STEPS, 'optimization steps')\n",
    "print('batch_size=',batch_size)\n",
    "print('Learning rate=',1e-3)\n",
    "print('optimizer = Adam')\n",
    "print('Total training time approx. =',elapsed,'secs')"
   ]
  },
  {
   "cell_type": "code",
   "execution_count": null,
   "metadata": {},
   "outputs": [],
   "source": []
  }
 ],
 "metadata": {
  "kernelspec": {
   "display_name": "Python 3",
   "language": "python",
   "name": "python3"
  },
  "language_info": {
   "codemirror_mode": {
    "name": "ipython",
    "version": 3
   },
   "file_extension": ".py",
   "mimetype": "text/x-python",
   "name": "python",
   "nbconvert_exporter": "python",
   "pygments_lexer": "ipython3",
   "version": "3.6.2"
  }
 },
 "nbformat": 4,
 "nbformat_minor": 2
}
