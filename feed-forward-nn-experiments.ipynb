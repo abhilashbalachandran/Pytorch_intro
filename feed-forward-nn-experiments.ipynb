{
 "cells": [
  {
   "cell_type": "code",
   "execution_count": 73,
   "metadata": {},
   "outputs": [],
   "source": [
    "%matplotlib inline\n",
    "import matplotlib.pyplot as plt\n",
    "import numpy as np\n",
    "from __future__ import print_function\n",
    "import torch\n",
    "from torch import autograd\n",
    "from torch.autograd import Variable\n",
    "import torch.nn.functional as F\n",
    "from IPython.display import clear_output\n",
    "import time\n",
    "\n",
    "images = np.load('./images.npy')\n",
    "labels = np.load('./labels.npy')\n",
    "num_images,height,width = np.shape(images)\n",
    "images = images.astype(float)\n",
    "images = np.reshape(images,(num_images,height*width))/255.0\n",
    "\n",
    "\n",
    "labels = labels.astype(int)\n",
    "\n",
    "\n",
    "\n",
    "x_valid = images[45000:50000][:]\n",
    "\n",
    "y_valid = labels[45000:50000]\n",
    "\n",
    "\n",
    "x_train = images[0:45000][:]\n",
    "y_train = labels[0:45000]\n",
    "\n",
    "\n",
    "\n",
    "train_seqs = x_train\n",
    "train_labels = y_train\n",
    "\n",
    "val_seqs = x_valid\n",
    "val_labels = y_valid\n",
    "\n",
    "\n",
    "#constants\n",
    "HEIGHT = np.shape(train_seqs)[1]\n",
    "WIDTH = 1\n",
    "max_count = np.bincount(train_labels)\n",
    "NUM_CLASSES = np.size(max_count)\n",
    "NUM_EXAMPLES = np.shape(train_seqs)[0]\n",
    "NUM_OPT_STEPS = 10000\n",
    "batch_size = 300;\n"
   ]
  },
  {
   "cell_type": "code",
   "execution_count": 74,
   "metadata": {},
   "outputs": [],
   "source": [
    "#linear model\n",
    "class TwoLayerNN(torch.nn.Module):\n",
    "    def __init__(self):\n",
    "        super().__init__()\n",
    "        self.linear1 = torch.nn.Linear(HEIGHT*WIDTH, 100)\n",
    "        self.linear2 = torch.nn.Linear(100,50)\n",
    "        self.linear3 = torch.nn.Linear(50, 5)\n",
    "    def forward(self, x):\n",
    "        x = self.linear1(x)\n",
    "        x = F.relu(x)\n",
    "        x = self.linear2(x)\n",
    "        x = F.relu(x)\n",
    "        x = self.linear3(x)\n",
    "        return x"
   ]
  },
  {
   "cell_type": "code",
   "execution_count": 75,
   "metadata": {},
   "outputs": [],
   "source": [
    "model = TwoLayerNN()"
   ]
  },
  {
   "cell_type": "code",
   "execution_count": 76,
   "metadata": {},
   "outputs": [],
   "source": [
    "optimizer = torch.optim.Adam(model.parameters(), lr=1e-3)"
   ]
  },
  {
   "cell_type": "code",
   "execution_count": 77,
   "metadata": {},
   "outputs": [],
   "source": [
    "def train(batch_size):\n",
    "    #model.train() puts our model in train mode, which can require different behaviour than eval mode (for example\n",
    "    #in the case of dropout\n",
    "    #model.train()\n",
    "    #i is a 1 dimensional array with shape[batch_size]\n",
    "    i = np.random.choice(train_seqs.shape[0], size=batch_size, replace=False)\n",
    "    x = autograd.Variable(torch.from_numpy(train_seqs[i].astype(np.float32)))\n",
    "    y = autograd.Variable(torch.from_numpy(train_labels[i].astype(np.int)))\n",
    "    optimizer.zero_grad()\n",
    "    y_hat_ = model(x)\n",
    "    loss = F.cross_entropy(y_hat_, y)\n",
    "    loss.backward()\n",
    "    optimizer.step()\n",
    "    return loss.data[0]"
   ]
  },
  {
   "cell_type": "code",
   "execution_count": 78,
   "metadata": {},
   "outputs": [],
   "source": [
    "def approx_train_accuracy():\n",
    "    i = np.random.choice(train_seqs.shape[0], size=1000, replace=False)\n",
    "    x = autograd.Variable(torch.from_numpy(train_seqs[i].astype(np.float32)))\n",
    "    y = autograd.Variable(torch.from_numpy(train_labels[i].astype(np.float32)))\n",
    "    y_hat_ = model(x)\n",
    "    temp,y_hat = torch.max(y_hat_,1)\n",
    "    return accuracy(y,y_hat)\n",
    "    "
   ]
  },
  {
   "cell_type": "code",
   "execution_count": 79,
   "metadata": {},
   "outputs": [],
   "source": [
    "def approx_val_accuracy():\n",
    "    i = np.random.choice(train_seqs.shape[0], size=1000, replace=False)\n",
    "    x = autograd.Variable(torch.from_numpy(val_seqs.astype(np.float32)))\n",
    "    y = autograd.Variable(torch.from_numpy(val_labels.astype(np.float32)))\n",
    "    y_hat_ = model(x)\n",
    "    temp,y_hat = torch.max(y_hat_,1)\n",
    "    return accuracy(y,y_hat)\n",
    "    "
   ]
  },
  {
   "cell_type": "code",
   "execution_count": 80,
   "metadata": {},
   "outputs": [],
   "source": [
    "def accuracy(y,y_hat):\n",
    "    correct = np.count_nonzero(y_hat.data.numpy()==y.data.numpy())\n",
    "    return correct/y.data.shape[0]"
   ]
  },
  {
   "cell_type": "code",
   "execution_count": 81,
   "metadata": {},
   "outputs": [
    {
     "name": "stdout",
     "output_type": "stream",
     "text": [
      "     0 20.70 22.68\n",
      "   100 78.10 78.76\n",
      "   200 78.30 80.08\n",
      "   300 81.80 81.80\n",
      "   400 83.90 83.02\n",
      "   500 83.50 83.90\n",
      "   600 83.90 84.70\n",
      "   700 84.40 85.40\n",
      "   800 87.10 85.82\n",
      "   900 88.00 85.78\n",
      "  1000 88.40 85.94\n",
      "  1100 86.90 86.14\n",
      "  1200 87.60 86.00\n",
      "  1300 89.10 86.82\n",
      "  1400 90.20 86.68\n",
      "  1500 90.10 86.30\n",
      "  1600 91.80 86.58\n",
      "  1700 91.30 86.74\n",
      "  1800 92.60 86.84\n",
      "  1900 90.40 86.46\n",
      "  2000 92.30 86.36\n",
      "  2100 91.90 86.34\n",
      "  2200 92.60 86.56\n",
      "  2300 92.90 86.44\n",
      "  2400 94.60 86.86\n",
      "  2500 93.40 86.82\n",
      "  2600 93.70 86.34\n",
      "  2700 94.30 86.74\n",
      "  2800 92.20 85.84\n",
      "  2900 94.70 86.90\n",
      "  3000 94.90 86.38\n",
      "  3100 95.20 86.70\n",
      "  3200 95.40 86.24\n",
      "  3300 95.60 86.42\n",
      "  3400 95.60 85.80\n",
      "  3500 96.30 86.06\n",
      "  3600 95.60 86.50\n",
      "  3700 96.30 86.42\n",
      "  3800 95.70 85.40\n",
      "  3900 96.70 86.26\n",
      "  4000 96.10 85.82\n",
      "  4100 96.20 86.30\n",
      "  4200 97.60 85.98\n",
      "  4300 96.80 86.22\n",
      "  4400 97.60 85.88\n",
      "  4500 98.10 85.74\n",
      "  4600 97.90 85.76\n",
      "  4700 97.40 85.66\n",
      "  4800 97.70 86.08\n",
      "  4900 97.60 85.30\n",
      "  5000 97.80 85.56\n",
      "  5100 97.70 85.70\n",
      "  5200 98.20 85.60\n",
      "  5300 98.60 85.54\n",
      "  5400 98.30 85.46\n",
      "  5500 98.90 85.44\n",
      "  5600 98.20 85.46\n",
      "  5700 98.30 85.42\n",
      "  5800 98.50 85.48\n",
      "  5900 98.20 85.24\n",
      "  6000 98.10 85.08\n",
      "  6100 98.50 84.94\n",
      "  6200 99.40 85.44\n",
      "  6300 98.40 85.08\n",
      "  6400 99.10 84.98\n",
      "  6500 99.20 84.94\n",
      "  6600 99.80 85.54\n",
      "  6700 99.60 85.26\n",
      "  6800 99.00 85.34\n",
      "  6900 99.40 85.18\n",
      "  7000 99.50 84.84\n",
      "  7100 99.10 85.50\n",
      "  7200 99.70 84.88\n",
      "  7300 99.50 85.06\n",
      "  7400 99.40 85.12\n",
      "  7500 99.60 85.10\n",
      "  7600 99.60 85.06\n",
      "  7700 99.80 85.04\n",
      "  7800 99.70 85.04\n",
      "  7900 99.10 84.76\n",
      "  8000 99.10 84.68\n",
      "  8100 99.30 85.10\n",
      "  8200 99.00 85.08\n",
      "  8300 99.70 85.02\n",
      "  8400 99.60 85.32\n",
      "  8500 99.90 85.20\n",
      "  8600 99.80 85.28\n",
      "  8700 99.80 85.12\n",
      "  8800 99.90 85.30\n",
      "  8900 99.90 85.58\n",
      "  9000 99.20 84.56\n",
      "  9100 99.40 84.58\n",
      "  9200 99.70 84.72\n",
      "  9300 99.50 84.34\n",
      "  9400 99.70 85.18\n",
      "  9500 98.70 84.90\n",
      "  9600 99.20 84.80\n",
      "  9700 99.80 85.52\n",
      "  9800 99.80 85.30\n",
      "  9900 100.00 85.36\n",
      "Total training time approx. = 107.65202283859253 secs\n"
     ]
    }
   ],
   "source": [
    "t = time.time()\n",
    "\n",
    "train_accs, val_accs =[], []\n",
    "for i in range(NUM_OPT_STEPS):\n",
    "    loss = train(batch_size)\n",
    "    if i%100==0:\n",
    "        train_accs.append(approx_train_accuracy())\n",
    "        val_accs.append(approx_val_accuracy())\n",
    "        print(\"%6d %5.2f %5.2f\"%(i,train_accs[-1]*100,val_accs[-1]*100))\n",
    "\n",
    "elapsed = time.time() - t\n",
    "print('Total training time approx. =',elapsed,'secs')"
   ]
  },
  {
   "cell_type": "code",
   "execution_count": 82,
   "metadata": {},
   "outputs": [
    {
     "name": "stdout",
     "output_type": "stream",
     "text": [
      "average accuracy =  0.94902\n"
     ]
    },
    {
     "data": {
      "image/png": "[encoded data removed]",
      "text/plain": [
       "<matplotlib.figure.Figure at 0x10c2ed668>"
      ]
     },
     "metadata": {},
     "output_type": "display_data"
    }
   ],
   "source": [
    "plt.plot(train_accs)\n",
    "plt.title('Training accuracy')\n",
    "plt.ylabel('accuracy')\n",
    "plt.xlabel('optimization steps')\n",
    "print('average accuracy = ',np.mean(train_accs))"
   ]
  },
  {
   "cell_type": "code",
   "execution_count": 83,
   "metadata": {},
   "outputs": [
    {
     "name": "stdout",
     "output_type": "stream",
     "text": [
      "average accuracy =  0.848058\n"
     ]
    },
    {
     "data": {
      "image/png": "[encoded data removed]",
      "text/plain": [
       "<matplotlib.figure.Figure at 0x10aa99208>"
      ]
     },
     "metadata": {},
     "output_type": "display_data"
    }
   ],
   "source": [
    "plt.plot(val_accs)\n",
    "plt.title('Validation accuracy')\n",
    "plt.ylabel('accuracy')\n",
    "plt.xlabel('optimization steps')\n",
    "print('average accuracy = ',np.mean(val_accs))"
   ]
  },
  {
   "cell_type": "code",
   "execution_count": 84,
   "metadata": {},
   "outputs": [
    {
     "name": "stdout",
     "output_type": "stream",
     "text": [
      "Max training accuracy= 1.0 for 10000 optimization steps\n",
      "Max validation accuracy= 0.869 for 10000 optimization steps\n",
      "batch_size= 300\n",
      "Learning rate= 0.001\n",
      "optimizer = Adam\n",
      "Total training time approx. = 107.65202283859253 secs\n"
     ]
    }
   ],
   "source": [
    "print('Max training accuracy=',np.max(train_accs), 'for',NUM_OPT_STEPS ,'optimization steps')\n",
    "print('Max validation accuracy=',np.max(val_accs), 'for',NUM_OPT_STEPS, 'optimization steps')\n",
    "print('batch_size=',batch_size)\n",
    "print('Learning rate=',1e-3)\n",
    "print('optimizer = Adam')\n",
    "print('Total training time approx. =',elapsed,'secs')"
   ]
  },
  {
   "cell_type": "code",
   "execution_count": 86,
   "metadata": {},
   "outputs": [
    {
     "name": "stdout",
     "output_type": "stream",
     "text": [
      "     0 30.90 31.46\n",
      "   100 75.40 75.88\n",
      "   200 78.10 79.06\n",
      "   300 80.70 79.90\n",
      "   400 81.10 81.88\n",
      "   500 82.90 83.28\n",
      "   600 84.40 83.50\n",
      "   700 86.10 84.30\n",
      "   800 86.00 85.00\n",
      "   900 88.20 85.34\n",
      "  1000 86.40 86.18\n",
      "  1100 88.70 85.92\n",
      "  1200 88.90 85.98\n",
      "  1300 89.00 86.62\n",
      "  1400 91.50 86.52\n",
      "  1500 91.30 86.40\n",
      "  1600 93.20 86.62\n",
      "  1700 89.80 86.20\n",
      "  1800 89.90 86.26\n",
      "  1900 92.00 86.84\n",
      "  2000 92.10 86.92\n",
      "  2100 90.40 86.80\n",
      "  2200 92.70 86.74\n",
      "  2300 93.00 86.76\n",
      "  2400 93.80 86.00\n",
      "  2500 93.10 86.82\n",
      "  2600 93.40 86.14\n",
      "  2700 94.00 86.32\n",
      "  2800 95.00 85.84\n",
      "  2900 93.60 86.06\n",
      "  3000 94.60 86.18\n",
      "  3100 93.10 86.18\n",
      "  3200 94.90 85.80\n",
      "  3300 94.80 86.58\n",
      "  3400 96.00 85.86\n",
      "  3500 96.50 85.66\n",
      "  3600 96.20 86.14\n",
      "  3700 96.50 86.02\n",
      "  3800 96.90 86.12\n",
      "  3900 96.90 85.82\n",
      "  4000 96.80 85.86\n",
      "  4100 96.70 86.02\n",
      "  4200 96.60 85.90\n",
      "  4300 97.30 85.06\n",
      "  4400 97.70 85.46\n",
      "  4500 98.50 85.56\n",
      "  4600 96.80 85.22\n",
      "  4700 97.80 85.48\n",
      "  4800 97.50 85.72\n",
      "  4900 97.00 85.86\n",
      "  5000 96.70 85.16\n",
      "  5100 98.10 85.44\n",
      "  5200 97.20 84.80\n",
      "  5300 97.60 85.18\n",
      "  5400 98.80 85.62\n",
      "  5500 97.70 85.50\n",
      "  5600 98.80 85.58\n",
      "  5700 98.10 85.50\n",
      "  5800 97.70 85.70\n",
      "  5900 98.60 86.28\n",
      "  6000 98.50 85.26\n",
      "  6100 98.50 85.50\n",
      "  6200 98.30 85.88\n",
      "  6300 99.40 85.26\n",
      "  6400 99.40 85.44\n",
      "  6500 97.70 85.10\n",
      "  6600 99.20 85.54\n",
      "  6700 98.90 85.86\n",
      "  6800 98.20 85.44\n",
      "  6900 99.50 85.64\n",
      "  7000 98.70 85.14\n",
      "  7100 98.70 85.32\n",
      "  7200 99.40 85.38\n",
      "  7300 99.40 85.48\n",
      "  7400 99.10 85.00\n",
      "  7500 98.90 85.50\n",
      "  7600 98.70 85.42\n",
      "  7700 99.50 85.36\n",
      "  7800 99.30 85.56\n",
      "  7900 99.00 85.16\n",
      "  8000 98.80 85.44\n",
      "  8100 99.30 84.98\n",
      "  8200 98.80 84.76\n",
      "  8300 99.20 85.24\n",
      "  8400 99.50 85.78\n",
      "  8500 99.60 85.48\n",
      "  8600 99.60 85.56\n",
      "  8700 99.90 85.98\n",
      "  8800 99.70 85.46\n",
      "  8900 99.40 85.70\n",
      "  9000 98.20 85.52\n",
      "  9100 98.90 85.06\n",
      "  9200 98.40 85.18\n",
      "  9300 99.50 85.68\n",
      "  9400 99.20 85.74\n",
      "  9500 99.90 85.58\n",
      "  9600 99.60 85.86\n",
      "  9700 99.10 86.12\n",
      "  9800 99.40 85.26\n",
      "  9900 99.20 85.28\n",
      "Total training time approx. = 108.05133700370789 secs\n"
     ]
    }
   ],
   "source": [
    "#model with 4 hidden layers\n",
    "for m in model.children():\n",
    "    m.reset_parameters()\n",
    "    \n",
    "#linear model\n",
    "class TwoLayerNN(torch.nn.Module):\n",
    "    def __init__(self):\n",
    "        super().__init__()\n",
    "        self.linear1 = torch.nn.Linear(HEIGHT*WIDTH, 100)\n",
    "        self.linear2 = torch.nn.Linear(100,75)\n",
    "        self.linear3 = torch.nn.Linear(75, 50)\n",
    "        self.linear4 = torch.nn.Linear(50,5)\n",
    "    def forward(self, x):\n",
    "        x = self.linear1(x)\n",
    "        x = F.relu(x)\n",
    "        x = self.linear2(x)\n",
    "        x = F.relu(x)\n",
    "        x = self.linear3(x)\n",
    "        x = F.relu(x)\n",
    "        x = self.linear4(x)\n",
    "        return x\n",
    "\n",
    "model = TwoLayerNN()\n",
    "\n",
    "#constants\n",
    "HEIGHT = np.shape(train_seqs)[1]\n",
    "WIDTH = 1\n",
    "max_count = np.bincount(train_labels)\n",
    "NUM_CLASSES = np.size(max_count)\n",
    "NUM_EXAMPLES = np.shape(train_seqs)[0]\n",
    "NUM_OPT_STEPS = 10000\n",
    "batch_size = 300\n",
    "\n",
    "optimizer = torch.optim.Adam(model.parameters(), lr=1e-3)\n",
    "\n",
    "#time\n",
    "t = time.time()\n",
    "train_accs, val_accs =[], []\n",
    "for i in range(NUM_OPT_STEPS):\n",
    "    loss = train(batch_size)\n",
    "    if i%100==0:\n",
    "        train_accs.append(approx_train_accuracy())\n",
    "        val_accs.append(approx_val_accuracy())\n",
    "        print(\"%6d %5.2f %5.2f\"%(i,train_accs[-1]*100,val_accs[-1]*100))\n",
    "        \n",
    "elapsed = time.time() - t\n",
    "print('Total training time approx. =',elapsed,'secs')"
   ]
  },
  {
   "cell_type": "code",
   "execution_count": 87,
   "metadata": {},
   "outputs": [
    {
     "name": "stdout",
     "output_type": "stream",
     "text": [
      "average accuracy =  0.94775\n"
     ]
    },
    {
     "data": {
      "image/png": "[encoded data removed]",
      "text/plain": [
       "<matplotlib.figure.Figure at 0x10c156c18>"
      ]
     },
     "metadata": {},
     "output_type": "display_data"
    }
   ],
   "source": [
    "plt.plot(train_accs)\n",
    "plt.title('Training accuracy')\n",
    "plt.ylabel('accuracy')\n",
    "plt.xlabel('optimization steps')\n",
    "print('average accuracy = ',np.mean(train_accs))"
   ]
  },
  {
   "cell_type": "code",
   "execution_count": 88,
   "metadata": {},
   "outputs": [
    {
     "name": "stdout",
     "output_type": "stream",
     "text": [
      "average accuracy =  0.84867\n"
     ]
    },
    {
     "data": {
      "image/png": "[encoded data removed]",
      "text/plain": [
       "<matplotlib.figure.Figure at 0x10c154438>"
      ]
     },
     "metadata": {},
     "output_type": "display_data"
    }
   ],
   "source": [
    "plt.plot(val_accs)\n",
    "plt.title('Validation accuracy')\n",
    "plt.ylabel('accuracy')\n",
    "plt.xlabel('optimization steps')\n",
    "print('average accuracy = ',np.mean(val_accs))"
   ]
  },
  {
   "cell_type": "code",
   "execution_count": 89,
   "metadata": {},
   "outputs": [
    {
     "name": "stdout",
     "output_type": "stream",
     "text": [
      "Max training accuracy= 0.999 for 10000 optimization steps\n",
      "Max validation accuracy= 0.8692 for 10000 optimization steps\n",
      "batch_size= 300\n",
      "Learning rate= 0.001\n",
      "optimizer = Adam\n",
      "Total training time approx. = 108.05133700370789 secs\n"
     ]
    }
   ],
   "source": [
    "print('Max training accuracy=',np.max(train_accs), 'for',NUM_OPT_STEPS ,'optimization steps')\n",
    "print('Max validation accuracy=',np.max(val_accs), 'for',NUM_OPT_STEPS, 'optimization steps')\n",
    "print('batch_size=',batch_size)\n",
    "print('Learning rate=',1e-3)\n",
    "print('optimizer = Adam')\n",
    "print('Total training time approx. =',elapsed,'secs')"
   ]
  },
  {
   "cell_type": "code",
   "execution_count": 109,
   "metadata": {},
   "outputs": [
    {
     "name": "stdout",
     "output_type": "stream",
     "text": [
      "     0 22.00 19.66\n",
      "   100 74.90 75.78\n",
      "   200 76.20 78.34\n",
      "   300 80.40 79.98\n",
      "   400 80.60 81.16\n",
      "   500 80.70 81.30\n",
      "   600 83.00 83.24\n",
      "   700 84.70 83.54\n",
      "   800 84.50 83.98\n",
      "   900 86.80 84.02\n",
      "  1000 84.70 84.92\n",
      "  1100 88.30 85.24\n",
      "  1200 86.40 85.38\n",
      "  1300 87.60 85.68\n",
      "  1400 86.90 85.88\n",
      "  1500 88.40 85.96\n",
      "  1600 86.80 86.22\n",
      "  1700 87.80 86.44\n",
      "  1800 88.60 86.50\n",
      "  1900 87.30 86.52\n",
      "  2000 89.60 86.82\n",
      "  2100 88.60 86.48\n",
      "  2200 88.70 86.80\n",
      "  2300 89.50 86.74\n",
      "  2400 86.80 86.14\n",
      "  2500 89.50 86.88\n",
      "  2600 87.90 86.46\n",
      "  2700 91.30 87.14\n",
      "  2800 89.30 86.86\n",
      "  2900 90.90 86.92\n",
      "  3000 91.70 86.80\n",
      "  3100 91.90 86.66\n",
      "  3200 89.70 87.38\n",
      "  3300 90.90 87.28\n",
      "  3400 90.70 87.18\n",
      "  3500 90.20 87.00\n",
      "  3600 90.50 87.00\n",
      "  3700 90.50 87.48\n",
      "  3800 92.10 86.82\n",
      "  3900 92.20 86.96\n",
      "  4000 91.30 87.18\n",
      "  4100 93.20 87.28\n",
      "  4200 91.40 87.34\n",
      "  4300 91.10 87.50\n",
      "  4400 91.90 87.18\n",
      "  4500 92.50 87.08\n",
      "  4600 92.10 87.22\n",
      "  4700 91.70 86.64\n",
      "  4800 93.30 87.22\n",
      "  4900 91.20 87.34\n",
      "Total training time approx. = 43.39731693267822 secs\n"
     ]
    }
   ],
   "source": [
    "#with dropout\n",
    "class TwoLayerNN(torch.nn.Module):\n",
    "    def __init__(self):\n",
    "        super().__init__()\n",
    "        self.linear1 = torch.nn.Linear(HEIGHT*WIDTH, 100)\n",
    "        self.linear2 = torch.nn.Linear(100,75)\n",
    "        self.linear3 = torch.nn.Linear(75, 50)\n",
    "        self.linear4 = torch.nn.Linear(50,5)\n",
    "    def forward(self, x):\n",
    "        x = self.linear1(x)\n",
    "        x = F.relu(x)\n",
    "        m = torch.nn.Dropout(p=0.2)\n",
    "        x = m(x)\n",
    "        x = self.linear2(x)\n",
    "        x = F.relu(x)\n",
    "        x = m(x)\n",
    "        x = self.linear3(x)\n",
    "        x = F.relu(x)\n",
    "        x = self.linear4(x)\n",
    "        return x\n",
    "    def eval(self,x):\n",
    "        x = self.linear1(x)\n",
    "        x = F.relu(x)\n",
    "        x = self.linear2(x)\n",
    "        x = F.relu(x)\n",
    "        x = self.linear3(x)\n",
    "        x = F.relu(x)\n",
    "        x = self.linear4(x)\n",
    "        return x\n",
    "\n",
    "model = TwoLayerNN()\n",
    "    \n",
    "def train(batch_size):\n",
    "    #model.train() puts our model in train mode, which can require different behaviour than eval mode (for example\n",
    "    #in the case of dropout\n",
    "    #model.train()\n",
    "    #i is a 1 dimensional array with shape[batch_size]\n",
    "    \n",
    "    i = np.random.choice(train_seqs.shape[0], size=batch_size, replace=False)\n",
    "    x = autograd.Variable(torch.from_numpy(train_seqs[i].astype(np.float32)))\n",
    "    y = autograd.Variable(torch.from_numpy(train_labels[i].astype(np.int)))\n",
    "    optimizer.zero_grad()\n",
    "    y_hat_ = model.forward(x)\n",
    "    loss = F.cross_entropy(y_hat_, y)\n",
    "    loss.backward()\n",
    "    optimizer.step()\n",
    "    return loss.data[0]\n",
    "\n",
    "def approx_val_accuracy():\n",
    "    i = np.random.choice(train_seqs.shape[0], size=1000, replace=False)\n",
    "    x = autograd.Variable(torch.from_numpy(val_seqs.astype(np.float32)))\n",
    "    y = autograd.Variable(torch.from_numpy(val_labels.astype(np.float32)))\n",
    "    y_hat_ = model.eval(x)\n",
    "    temp,y_hat = torch.max(y_hat_,1)\n",
    "    return accuracy(y,y_hat)\n",
    "\n",
    "def approx_train_accuracy():\n",
    "    i = np.random.choice(train_seqs.shape[0], size=1000, replace=False)\n",
    "    x = autograd.Variable(torch.from_numpy(train_seqs[i].astype(np.float32)))\n",
    "    y = autograd.Variable(torch.from_numpy(train_labels[i].astype(np.float32)))\n",
    "    y_hat_ = model.eval(x)\n",
    "    temp,y_hat = torch.max(y_hat_,1)\n",
    "    return accuracy(y,y_hat)\n",
    "\n",
    "\n",
    "for m in model.children():\n",
    "    m.reset_parameters()\n",
    "\n",
    "model = TwoLayerNN()\n",
    "\n",
    "#constants\n",
    "HEIGHT = np.shape(train_seqs)[1]\n",
    "WIDTH = 1\n",
    "max_count = np.bincount(train_labels)\n",
    "NUM_CLASSES = np.size(max_count)\n",
    "NUM_EXAMPLES = np.shape(train_seqs)[0]\n",
    "NUM_OPT_STEPS = 5000\n",
    "batch_size = 128\n",
    "\n",
    "optimizer = torch.optim.Adam(model.parameters(), lr=1e-3)\n",
    "\n",
    "#time\n",
    "t = time.time()\n",
    "train_accs, val_accs =[], []\n",
    "for i in range(NUM_OPT_STEPS):\n",
    "    loss = train(batch_size)\n",
    "    if i%100==0:\n",
    "        train_accs.append(approx_train_accuracy())\n",
    "        val_accs.append(approx_val_accuracy())\n",
    "        print(\"%6d %5.2f %5.2f\"%(i,train_accs[-1]*100,val_accs[-1]*100))\n",
    "        \n",
    "elapsed = time.time() - t\n",
    "print('Total training time approx. =',elapsed,'secs')"
   ]
  },
  {
   "cell_type": "code",
   "execution_count": 110,
   "metadata": {},
   "outputs": [
    {
     "name": "stdout",
     "output_type": "stream",
     "text": [
      "average accuracy =  0.86976\n"
     ]
    },
    {
     "data": {
      "image/png": "[encoded data removed]",
      "text/plain": [
       "<matplotlib.figure.Figure at 0x10ab5b048>"
      ]
     },
     "metadata": {},
     "output_type": "display_data"
    }
   ],
   "source": [
    "plt.plot(train_accs)\n",
    "plt.title('Training accuracy')\n",
    "plt.ylabel('accuracy')\n",
    "plt.xlabel('optimization steps')\n",
    "print('average accuracy = ',np.mean(train_accs))"
   ]
  },
  {
   "cell_type": "code",
   "execution_count": 111,
   "metadata": {},
   "outputs": [
    {
     "name": "stdout",
     "output_type": "stream",
     "text": [
      "average accuracy =  0.843904\n"
     ]
    },
    {
     "data": {
      "image/png": "[encoded data removed]",
      "text/plain": [
       "<matplotlib.figure.Figure at 0x106d631d0>"
      ]
     },
     "metadata": {},
     "output_type": "display_data"
    }
   ],
   "source": [
    "plt.plot(val_accs)\n",
    "plt.title('Validation accuracy')\n",
    "plt.ylabel('accuracy')\n",
    "plt.xlabel('optimization steps')\n",
    "print('average accuracy = ',np.mean(val_accs))"
   ]
  },
  {
   "cell_type": "code",
   "execution_count": 112,
   "metadata": {},
   "outputs": [
    {
     "name": "stdout",
     "output_type": "stream",
     "text": [
      "Max training accuracy= 0.933 for 5000 optimization steps\n",
      "Max validation accuracy= 0.875 for 5000 optimization steps\n",
      "batch_size= 128\n",
      "Learning rate= 0.001\n",
      "optimizer = Adam\n",
      "Total training time approx. = 43.39731693267822 secs\n"
     ]
    }
   ],
   "source": [
    "print('Max training accuracy=',np.max(train_accs), 'for',NUM_OPT_STEPS ,'optimization steps')\n",
    "print('Max validation accuracy=',np.max(val_accs), 'for',NUM_OPT_STEPS, 'optimization steps')\n",
    "print('batch_size=',batch_size)\n",
    "print('Learning rate=',1e-3)\n",
    "print('optimizer = Adam')\n",
    "print('Total training time approx. =',elapsed,'secs')"
   ]
  },
  {
   "cell_type": "code",
   "execution_count": 107,
   "metadata": {},
   "outputs": [
    {
     "name": "stdout",
     "output_type": "stream",
     "text": [
      "     0 30.30 34.26\n",
      "   100 77.90 77.34\n",
      "   200 79.60 79.50\n",
      "   300 80.30 81.86\n",
      "   400 82.80 83.64\n",
      "   500 85.30 84.24\n",
      "   600 86.20 84.84\n",
      "   700 85.60 85.34\n",
      "   800 86.90 86.04\n",
      "   900 87.70 86.08\n",
      "  1000 88.00 86.42\n",
      "  1100 89.00 86.70\n",
      "  1200 89.20 86.34\n",
      "  1300 89.50 86.66\n",
      "  1400 90.00 86.18\n",
      "  1500 91.50 86.80\n",
      "  1600 91.90 86.80\n",
      "  1700 90.30 87.14\n",
      "  1800 91.60 86.90\n",
      "  1900 90.50 87.58\n",
      "  2000 91.90 86.90\n",
      "  2100 90.60 87.22\n",
      "  2200 92.40 87.18\n",
      "  2300 94.10 87.50\n",
      "  2400 92.10 86.98\n",
      "  2500 92.70 87.54\n",
      "  2600 93.30 86.90\n",
      "  2700 94.60 87.30\n",
      "  2800 94.90 87.44\n",
      "  2900 94.50 87.06\n",
      "  3000 92.50 87.18\n",
      "  3100 94.20 87.82\n",
      "  3200 93.50 87.58\n",
      "  3300 94.70 87.38\n",
      "  3400 93.90 87.40\n",
      "  3500 96.70 87.38\n",
      "  3600 94.90 87.32\n",
      "  3700 94.60 87.40\n",
      "  3800 95.00 87.80\n",
      "  3900 95.40 87.60\n",
      "  4000 95.60 87.06\n",
      "  4100 95.80 87.82\n",
      "  4200 95.40 87.04\n",
      "  4300 95.40 87.50\n",
      "  4400 95.60 87.38\n",
      "  4500 95.50 87.40\n",
      "  4600 96.50 87.36\n",
      "  4700 96.30 87.18\n",
      "  4800 96.70 87.54\n",
      "  4900 95.40 87.22\n",
      "Total training time approx. = 66.4208619594574 secs\n"
     ]
    }
   ],
   "source": [
    "#optimize performance\n",
    "class TwoLayerNN(torch.nn.Module):\n",
    "    def __init__(self):\n",
    "        super().__init__()\n",
    "        self.linear1 = torch.nn.Linear(HEIGHT*WIDTH, 100)\n",
    "        self.linear2 = torch.nn.Linear(100,75)\n",
    "        self.linear3 = torch.nn.Linear(75, 50)\n",
    "        self.linear4 = torch.nn.Linear(50,5)\n",
    "    def forward(self, x):\n",
    "        x = self.linear1(x)\n",
    "        x = F.relu(x)\n",
    "        m = torch.nn.Dropout(p=0.2)\n",
    "        x = m(x)\n",
    "        x = self.linear2(x)\n",
    "        x = F.relu(x)\n",
    "        x = self.linear3(x)\n",
    "        x = F.relu(x)\n",
    "        x = self.linear4(x)\n",
    "        return x\n",
    "    def eval(self,x):\n",
    "        x = self.linear1(x)\n",
    "        x = F.relu(x)\n",
    "        x = self.linear2(x)\n",
    "        x = F.relu(x)\n",
    "        x = self.linear3(x)\n",
    "        x = F.relu(x)\n",
    "        x = self.linear4(x)\n",
    "        return x\n",
    "\n",
    "model = TwoLayerNN()\n",
    "    \n",
    "def train(batch_size):\n",
    "    #model.train() puts our model in train mode, which can require different behaviour than eval mode (for example\n",
    "    #in the case of dropout\n",
    "    #model.train()\n",
    "    #i is a 1 dimensional array with shape[batch_size]\n",
    "    \n",
    "    i = np.random.choice(train_seqs.shape[0], size=batch_size, replace=False)\n",
    "    x = autograd.Variable(torch.from_numpy(train_seqs[i].astype(np.float32)))\n",
    "    y = autograd.Variable(torch.from_numpy(train_labels[i].astype(np.int)))\n",
    "    optimizer.zero_grad()\n",
    "    y_hat_ = model.forward(x)\n",
    "    loss = F.cross_entropy(y_hat_, y)\n",
    "    loss.backward()\n",
    "    optimizer.step()\n",
    "    return loss.data[0]\n",
    "\n",
    "def approx_val_accuracy():\n",
    "    i = np.random.choice(train_seqs.shape[0], size=1000, replace=False)\n",
    "    x = autograd.Variable(torch.from_numpy(val_seqs.astype(np.float32)))\n",
    "    y = autograd.Variable(torch.from_numpy(val_labels.astype(np.float32)))\n",
    "    y_hat_ = model.eval(x)\n",
    "    temp,y_hat = torch.max(y_hat_,1)\n",
    "    return accuracy(y,y_hat)\n",
    "\n",
    "def approx_train_accuracy():\n",
    "    i = np.random.choice(train_seqs.shape[0], size=1000, replace=False)\n",
    "    x = autograd.Variable(torch.from_numpy(train_seqs[i].astype(np.float32)))\n",
    "    y = autograd.Variable(torch.from_numpy(train_labels[i].astype(np.float32)))\n",
    "    y_hat_ = model.eval(x)\n",
    "    temp,y_hat = torch.max(y_hat_,1)\n",
    "    return accuracy(y,y_hat)\n",
    "model = TwoLayerNN()\n",
    "\n",
    "#constants\n",
    "HEIGHT = np.shape(train_seqs)[1]\n",
    "WIDTH = 1\n",
    "max_count = np.bincount(train_labels)\n",
    "NUM_CLASSES = np.size(max_count)\n",
    "NUM_EXAMPLES = np.shape(train_seqs)[0]\n",
    "NUM_OPT_STEPS = 5000\n",
    "batch_size = 300\n",
    "\n",
    "optimizer = torch.optim.Adam(model.parameters(), lr=1e-3)\n",
    "\n",
    "#time\n",
    "t = time.time()\n",
    "train_accs, val_accs =[], []\n",
    "for i in range(NUM_OPT_STEPS):\n",
    "    loss = train(batch_size)\n",
    "    if i%100==0:\n",
    "        train_accs.append(approx_train_accuracy())\n",
    "        val_accs.append(approx_val_accuracy())\n",
    "        print(\"%6d %5.2f %5.2f\"%(i,train_accs[-1]*100,val_accs[-1]*100))\n",
    "        \n",
    "elapsed = time.time() - t\n",
    "print('Total training time approx. =',elapsed,'secs')"
   ]
  },
  {
   "cell_type": "code",
   "execution_count": 113,
   "metadata": {},
   "outputs": [
    {
     "name": "stdout",
     "output_type": "stream",
     "text": [
      "average accuracy =  0.86976\n"
     ]
    },
    {
     "data": {
      "image/png": "[encoded data removed]",
      "text/plain": [
       "<matplotlib.figure.Figure at 0x1059c4198>"
      ]
     },
     "metadata": {},
     "output_type": "display_data"
    }
   ],
   "source": [
    "plt.plot(train_accs)\n",
    "plt.title('Training accuracy')\n",
    "plt.ylabel('accuracy')\n",
    "plt.xlabel('optimization steps')\n",
    "print('average accuracy = ',np.mean(train_accs))"
   ]
  },
  {
   "cell_type": "code",
   "execution_count": 114,
   "metadata": {},
   "outputs": [
    {
     "name": "stdout",
     "output_type": "stream",
     "text": [
      "average accuracy =  0.843904\n"
     ]
    },
    {
     "data": {
      "image/png": "[encoded data removed]",
      "text/plain": [
       "<matplotlib.figure.Figure at 0x10aa87400>"
      ]
     },
     "metadata": {},
     "output_type": "display_data"
    }
   ],
   "source": [
    "plt.plot(val_accs)\n",
    "plt.title('Validation accuracy')\n",
    "plt.ylabel('accuracy')\n",
    "plt.xlabel('optimization steps')\n",
    "print('average accuracy = ',np.mean(val_accs))"
   ]
  },
  {
   "cell_type": "code",
   "execution_count": 115,
   "metadata": {},
   "outputs": [
    {
     "name": "stdout",
     "output_type": "stream",
     "text": [
      "Max training accuracy= 0.933 for 5000 optimization steps\n",
      "Max validation accuracy= 0.875 for 5000 optimization steps\n",
      "batch_size= 128\n",
      "Learning rate= 0.001\n",
      "optimizer = Adam\n",
      "Total training time approx. = 43.39731693267822 secs\n"
     ]
    }
   ],
   "source": [
    "print('Max training accuracy=',np.max(train_accs), 'for',NUM_OPT_STEPS ,'optimization steps')\n",
    "print('Max validation accuracy=',np.max(val_accs), 'for',NUM_OPT_STEPS, 'optimization steps')\n",
    "print('batch_size=',batch_size)\n",
    "print('Learning rate=',1e-3)\n",
    "print('optimizer = Adam')\n",
    "print('Total training time approx. =',elapsed,'secs')"
   ]
  },
  {
   "cell_type": "markdown",
   "metadata": {},
   "source": [
    "Best validation accuracy 87.5%. 4 layer deep neural net with 5000 optimization steps, Adam optimizer, learning rate of 1e-3, dropout after first layer and second and third layer with p=0.2\n",
    "\n",
    "Deep neural net used:\n",
    "3 hidden linear layers with relu activations in each hidden layer and one final linear layer\n"
   ]
  }
 ],
 "metadata": {
  "kernelspec": {
   "display_name": "Python 3",
   "language": "python",
   "name": "python3"
  },
  "language_info": {
   "codemirror_mode": {
    "name": "ipython",
    "version": 3
   },
   "file_extension": ".py",
   "mimetype": "text/x-python",
   "name": "python",
   "nbconvert_exporter": "python",
   "pygments_lexer": "ipython3",
   "version": "3.6.2"
  }
 },
 "nbformat": 4,
 "nbformat_minor": 2
}
