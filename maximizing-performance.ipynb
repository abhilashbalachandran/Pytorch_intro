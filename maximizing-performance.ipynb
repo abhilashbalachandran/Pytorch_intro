{
 "cells": [
  {
   "cell_type": "code",
   "execution_count": 17,
   "metadata": {},
   "outputs": [],
   "source": [
    "#%matplotlib inline\n",
    "import matplotlib.pyplot as plt\n",
    "import numpy as np\n",
    "from __future__ import print_function\n",
    "import torch\n",
    "from torch import autograd\n",
    "from torch.autograd import Variable\n",
    "import torch.nn.functional as F\n",
    "from IPython.display import clear_output\n",
    "import time\n",
    "import csv\n",
    "\n",
    "images = np.load('images.npy')\n",
    "labels = np.load('labels.npy')\n",
    "images1 = np.load('part_2_test_images.npy')\n",
    "\n",
    "\n",
    "num_images,height,width = np.shape(images)\n",
    "images = images.astype(float)\n",
    "HEIGHT = images.shape[1]\n",
    "WIDTH = images.shape[2]\n",
    "images = np.reshape(images,(num_images,height*width))\n",
    "\n",
    "\n",
    "\n",
    "num_images1,height1,width1 = np.shape(images1)\n",
    "images1 = images1.astype(float)\n",
    "images1 = np.reshape(images1,(num_images1,height1*width1))\n",
    "\n",
    "\n",
    "\n",
    "\n",
    "labels = labels.astype(int)\n",
    "\n",
    "\n",
    "\n",
    "x_valid = images[45000:50000][:]\n",
    "\n",
    "y_valid = labels[45000:50000]\n",
    "\n",
    "\n",
    "x_train = images[0:45000][:]\n",
    "\n",
    "y_train = labels[0:45000]\n",
    "\n",
    "\n",
    "\n",
    "val_predict = images1\n",
    "\n",
    "train_seqs = x_train\n",
    "train_labels = y_train\n",
    "\n",
    "val_seqs = x_valid\n",
    "val_labels = y_valid\n",
    "\n",
    "\n",
    "#constants\n",
    "max_count = np.bincount(train_labels)\n",
    "NUM_CLASSES = np.size(max_count)\n",
    "NUM_EXAMPLES = np.shape(train_seqs)[0]\n",
    "NUM_OPT_STEPS = 2000\n",
    "batch_size = 128;"
   ]
  },
  {
   "cell_type": "code",
   "execution_count": 24,
   "metadata": {},
   "outputs": [
    {
     "name": "stdout",
     "output_type": "stream",
     "text": [
      "     0 21.60 19.30\n",
      "   100 78.00 82.14\n",
      "   200 82.60 85.40\n",
      "   300 85.90 86.38\n",
      "   400 87.00 87.90\n",
      "   500 89.60 88.82\n",
      "   600 86.70 88.82\n",
      "   700 88.70 89.62\n",
      "   800 90.40 89.98\n",
      "   900 91.50 90.14\n",
      "  1000 91.70 90.56\n",
      "  1100 91.50 90.20\n",
      "  1200 91.80 90.82\n",
      "  1300 91.30 90.72\n",
      "  1400 90.60 90.44\n",
      "  1500 92.70 90.60\n",
      "  1600 92.50 90.38\n",
      "  1700 93.10 91.02\n",
      "  1800 92.20 90.32\n",
      "  1900 94.20 91.12\n",
      "Total training time approx. = 127.91087675094604 secs\n"
     ]
    }
   ],
   "source": [
    "class TooSimpleConvNN(torch.nn.Module):\n",
    "    def __init__(self):\n",
    "        super().__init__()\n",
    "        # 3x3 convolution that takes in an image with one channel\n",
    "        # and outputs an image with 8 channels.\n",
    "        self.conv1 = torch.nn.Conv2d(1, 16, kernel_size=3,stride = 2)\n",
    "        # 3x3 convolution that takes in an image with 8 channels\n",
    "        # and outputs an image with 16 channels. The output image\n",
    "        # has approximately half the height and half the width\n",
    "        # because of the stride of 2.\n",
    "        self.conv2 = torch.nn.Conv2d(16, 48, kernel_size=3, stride=2)\n",
    "        self.conv3 = torch.nn.Conv2d(48, 80, kernel_size=3, stride=2)\n",
    "        # 1x1 convolution that takes in an image with 16 channels and\n",
    "        # produces an image with 5 channels. Here, the 5 channels\n",
    "        # will correspond to class scores.\n",
    "        self.final_conv = torch.nn.Conv2d(80, 5, kernel_size=1)\n",
    "    def forward(self, x):\n",
    "        # Convolutions work with images of shape\n",
    "        # [batch_size, num_channels, height, width]\n",
    "        x = x.view(-1, HEIGHT, WIDTH).unsqueeze(1)\n",
    "        x = F.relu(self.conv1(x))\n",
    "        m = torch.nn.Dropout2d(p=0.2)\n",
    "        x = F.relu(self.conv2(m(x)))\n",
    "        x = F.relu(self.conv3(x))\n",
    "        n, c, h, w = x.size()\n",
    "        x = F.avg_pool2d(x, kernel_size=[h, w])\n",
    "        x = self.final_conv(x).view(-1, NUM_CLASSES)\n",
    "        return x\n",
    "    def eval(self,x):\n",
    "        x = x.view(-1, HEIGHT, WIDTH).unsqueeze(1)\n",
    "        x = F.relu(self.conv1(x))\n",
    "        x = F.relu(self.conv2(x))\n",
    "        x = F.relu(self.conv3(x))\n",
    "        n, c, h, w = x.size()\n",
    "        x = F.avg_pool2d(x, kernel_size=[h, w])\n",
    "        x = self.final_conv(x).view(-1, NUM_CLASSES)\n",
    "        return x\n",
    "        \n",
    "\n",
    "model = TooSimpleConvNN()\n",
    "\n",
    "optimizer = torch.optim.Adam(model.parameters(), lr=1e-3)\n",
    "\n",
    "def train(batch_size):\n",
    "    #model.train() puts our model in train mode, which can require different behaviour than eval mode (for example\n",
    "    #in the case of dropout\n",
    "    #model.train()\n",
    "    #i is a 1 dimensional array with shape[batch_size]\n",
    "    i = np.random.choice(train_seqs.shape[0], size=batch_size, replace=False)\n",
    "    x = autograd.Variable(torch.from_numpy(train_seqs[i].astype(np.float32)))\n",
    "    y = autograd.Variable(torch.from_numpy(train_labels[i].astype(np.int)))\n",
    "    optimizer.zero_grad()\n",
    "    y_hat_ = model(x)\n",
    "    loss = F.cross_entropy(y_hat_, y)\n",
    "    loss.backward()\n",
    "    optimizer.step()\n",
    "    return loss.data[0]\n",
    "\n",
    "def approx_train_accuracy():\n",
    "    i = np.random.choice(train_seqs.shape[0], size=1000, replace=False)\n",
    "    x = autograd.Variable(torch.from_numpy(train_seqs[i].astype(np.float32)))\n",
    "    y = autograd.Variable(torch.from_numpy(train_labels[i].astype(np.float32)))\n",
    "    y_hat_ = model(x)\n",
    "    temp,y_hat = torch.max(y_hat_,1)\n",
    "    return accuracy(y,y_hat)\n",
    "    \n",
    "\n",
    "def approx_val_accuracy():\n",
    "    i = np.random.choice(train_seqs.shape[0], size=1000, replace=False)\n",
    "    x = autograd.Variable(torch.from_numpy(val_seqs.astype(np.float32)))\n",
    "    y = autograd.Variable(torch.from_numpy(val_labels.astype(np.float32)))\n",
    "    y_hat_ = model.eval(x)\n",
    "    temp,y_hat = torch.max(y_hat_,1)\n",
    "    return accuracy(y,y_hat)\n",
    "\n",
    "\n",
    "def val_prediction():\n",
    "    x = autograd.Variable(torch.from_numpy(val_predict.astype(np.float32)))\n",
    "    y_hat_ = model.eval(x)\n",
    "    temp,y_hat = torch.max(y_hat_,1)\n",
    "    return y_hat\n",
    "    \n",
    "\n",
    "def accuracy(y,y_hat):\n",
    "    correct = np.count_nonzero(y_hat.data.numpy()==y.data.numpy())\n",
    "    return correct/y.data.shape[0]\n",
    "\n",
    "for m in model.children():\n",
    "    m.reset_parameters()\n",
    "\n",
    "#time\n",
    "t = time.time()\n",
    "#training\n",
    "train_accs, val_accs, answer =[], [], []\n",
    "for i in range(NUM_OPT_STEPS):\n",
    "    loss = train(batch_size)\n",
    "    if i%100==0:\n",
    "        train_accs.append(approx_train_accuracy())\n",
    "        val_accs.append(approx_val_accuracy())\n",
    "        print(\"%6d %5.2f %5.2f\"%(i,train_accs[-1]*100,val_accs[-1]*100))\n",
    "\n",
    "elapsed = time.time() - t\n",
    "print('Total training time approx. =',elapsed,'secs')"
   ]
  },
  {
   "cell_type": "code",
   "execution_count": 211,
   "metadata": {},
   "outputs": [
    {
     "data": {
      "text/plain": [
       "[<matplotlib.lines.Line2D at 0x110a50ac8>]"
      ]
     },
     "execution_count": 211,
     "metadata": {},
     "output_type": "execute_result"
    },
    {
     "data": {
      "text/plain": [
       "Text(0.5,1,'Training accuracy')"
      ]
     },
     "execution_count": 211,
     "metadata": {},
     "output_type": "execute_result"
    },
    {
     "data": {
      "text/plain": [
       "Text(0,0.5,'accuracy')"
      ]
     },
     "execution_count": 211,
     "metadata": {},
     "output_type": "execute_result"
    },
    {
     "data": {
      "text/plain": [
       "Text(0.5,0,'optimization steps')"
      ]
     },
     "execution_count": 211,
     "metadata": {},
     "output_type": "execute_result"
    },
    {
     "name": "stdout",
     "output_type": "stream",
     "text": [
      "average accuracy =  0.8618\n"
     ]
    },
    {
     "data": {
      "image/png": "[encoded data removed]",
      "text/plain": [
       "<matplotlib.figure.Figure at 0x1165b0a90>"
      ]
     },
     "metadata": {},
     "output_type": "display_data"
    }
   ],
   "source": [
    "plt.plot(train_accs)\n",
    "plt.title('Training accuracy')\n",
    "plt.ylabel('accuracy')\n",
    "plt.xlabel('optimization steps')\n",
    "print('average accuracy = ',np.mean(train_accs))"
   ]
  },
  {
   "cell_type": "code",
   "execution_count": 212,
   "metadata": {},
   "outputs": [
    {
     "data": {
      "text/plain": [
       "[<matplotlib.lines.Line2D at 0x114162c88>]"
      ]
     },
     "execution_count": 212,
     "metadata": {},
     "output_type": "execute_result"
    },
    {
     "data": {
      "text/plain": [
       "Text(0.5,1,'Validation accuracy')"
      ]
     },
     "execution_count": 212,
     "metadata": {},
     "output_type": "execute_result"
    },
    {
     "data": {
      "text/plain": [
       "Text(0,0.5,'accuracy')"
      ]
     },
     "execution_count": 212,
     "metadata": {},
     "output_type": "execute_result"
    },
    {
     "data": {
      "text/plain": [
       "Text(0.5,0,'optimization steps')"
      ]
     },
     "execution_count": 212,
     "metadata": {},
     "output_type": "execute_result"
    },
    {
     "name": "stdout",
     "output_type": "stream",
     "text": [
      "average accuracy =  0.85734\n"
     ]
    },
    {
     "data": {
      "image/png": "[encoded data removed]",
      "text/plain": [
       "<matplotlib.figure.Figure at 0x1165294a8>"
      ]
     },
     "metadata": {},
     "output_type": "display_data"
    }
   ],
   "source": [
    "plt.plot(val_accs)\n",
    "plt.title('Validation accuracy')\n",
    "plt.ylabel('accuracy')\n",
    "plt.xlabel('optimization steps')\n",
    "print('average accuracy = ',np.mean(val_accs))"
   ]
  },
  {
   "cell_type": "code",
   "execution_count": 213,
   "metadata": {},
   "outputs": [
    {
     "name": "stdout",
     "output_type": "stream",
     "text": [
      "Max training accuracy= 0.942 for 2000 optimization steps\n",
      "Max validation accuracy= 0.9112 for 2000 optimization steps\n",
      "batch_size= 128\n",
      "Learning rate= 0.001\n",
      "optimizer = Adam\n",
      "Total training time approx. = 127.91087675094604 secs\n"
     ]
    }
   ],
   "source": [
    "print('Max training accuracy=',np.max(train_accs), 'for',NUM_OPT_STEPS ,'optimization steps')\n",
    "print('Max validation accuracy=',np.max(val_accs), 'for',NUM_OPT_STEPS, 'optimization steps')\n",
    "print('batch_size=',batch_size)\n",
    "print('Learning rate=',1e-3)\n",
    "print('optimizer = Adam')\n",
    "print('Total training time approx. =',elapsed,'secs')"
   ]
  },
  {
   "cell_type": "code",
   "execution_count": 218,
   "metadata": {},
   "outputs": [
    {
     "data": {
      "text/plain": [
       "8"
      ]
     },
     "execution_count": 218,
     "metadata": {},
     "output_type": "execute_result"
    }
   ],
   "source": [
    "answer.append(val_prediction())\n",
    "\n",
    "from IPython.display import clear_output\n",
    "import csv\n",
    "\n",
    "csv_nos = []\n",
    "\n",
    "ans = answer[0].data.numpy()\n",
    "\n",
    "\n",
    "for i in range(0,ans.shape[0]):\n",
    "    csv_nos.append([i,ans[i]])\n",
    "    \n",
    "\n",
    "f = open('weights.csv', 'w')\n",
    "\n",
    "with f:\n",
    "    \n",
    "    fnames = ['id', 'label']\n",
    "    writer = csv.DictWriter(f, fieldnames=fnames)    \n",
    "\n",
    "    writer.writeheader()\n",
    "    for i in range(0,ans.shape[0]):\n",
    "        writer.writerow({'id' : i, 'label': ans[i]})\n",
    "        clear_output()\n",
    "    \n",
    "\n",
    "        "
   ]
  },
  {
   "cell_type": "markdown",
   "metadata": {},
   "source": [
    "Adam optimizer with learning rate of 1e-3\n",
    "-  Started with the configurations in 13 i.e 1 stride in both and 2 convolutional layers 16 filters in each layer, Batch size of 128. Training time was slow\n",
    "-  Changed to 2 strides in both layers with 16 filters in each layer, batch size of 128\n",
    "-  Added an extra layer to the above configuration with 16 filters. i.e 3 layer convolutional neural net and reduced batch size to 2000 to improve time performance\n",
    "-  Added more filters to the above configuration i.e 32 filters to the last layer\n",
    "-  Added more filters in each layer i.e made each layer have 32 filters\n",
    "-  Made batch size to 3000 and changed stride of 3rd hidden layer as 4\n",
    "-  Revert back to stride 2 for last layer and add dropout of p=0.2 to first layer\n",
    "-  Added dropout with p=0.2 before 2nd layer\n",
    "-  Added dropout with p=0.2 before 3rd layer"
   ]
  },
  {
   "cell_type": "code",
   "execution_count": 53,
   "metadata": {},
   "outputs": [],
   "source": [
    "# failure modes\n",
    "# make predictions from validation set(not kaggle)\n",
    "def val_prediction_mode():\n",
    "    x = autograd.Variable(torch.from_numpy(val_seqs.astype(np.float32)))\n",
    "    y_hat_ = model.eval(x)\n",
    "    temp,y_hat = torch.max(y_hat_,1)\n",
    "    return y_hat\n",
    "\n",
    "mode = val_prediction_mode()\n",
    "\n"
   ]
  },
  {
   "cell_type": "code",
   "execution_count": 150,
   "metadata": {},
   "outputs": [],
   "source": [
    "correct_class_index = np.array(np.where(mode.data.numpy() == val_labels))\n",
    "wrong_class_index = np.array(np.where(mode.data.numpy() != val_labels))"
   ]
  },
  {
   "cell_type": "code",
   "execution_count": 151,
   "metadata": {},
   "outputs": [
    {
     "data": {
      "text/plain": [
       "<matplotlib.figure.Figure at 0x110a43a58>"
      ]
     },
     "metadata": {},
     "output_type": "display_data"
    }
   ],
   "source": [
    "wrong = val_seqs[wrong_class_index[0][0:10]]\n",
    "correct = val_seqs[correct_class_index[0][0:10]]\n",
    "plt.set_cmap('gray')"
   ]
  },
  {
   "cell_type": "code",
   "execution_count": 184,
   "metadata": {},
   "outputs": [],
   "source": [
    "figures = {0:'apple',1:'baseball',2:'clock',3:'cookie',4:'fan'}"
   ]
  },
  {
   "cell_type": "markdown",
   "metadata": {},
   "source": [
    "Plotting wrongly classified images\n",
    "\n",
    "Integer associated with:\n",
    "apple = 0;\n",
    "baseball = 1;\n",
    "Clock = 3;\n",
    "Cookie = 2;\n",
    "Fan =4;"
   ]
  },
  {
   "cell_type": "code",
   "execution_count": 189,
   "metadata": {},
   "outputs": [
    {
     "data": {
      "text/plain": [
       "<matplotlib.figure.Figure at 0x10fc44908>"
      ]
     },
     "execution_count": 189,
     "metadata": {},
     "output_type": "execute_result"
    },
    {
     "data": {
      "text/plain": [
       "<matplotlib.image.AxesImage at 0x1104e59e8>"
      ]
     },
     "execution_count": 189,
     "metadata": {},
     "output_type": "execute_result"
    },
    {
     "data": {
      "image/png": "[encoded data removed]",
      "text/plain": [
       "<matplotlib.figure.Figure at 0x10fc44908>"
      ]
     },
     "metadata": {},
     "output_type": "display_data"
    },
    {
     "name": "stdout",
     "output_type": "stream",
     "text": [
      "This image is classified as  baseball\n",
      "But it is actually fan\n"
     ]
    },
    {
     "data": {
      "text/plain": [
       "<matplotlib.figure.Figure at 0x10feb05f8>"
      ]
     },
     "execution_count": 189,
     "metadata": {},
     "output_type": "execute_result"
    },
    {
     "data": {
      "text/plain": [
       "<matplotlib.image.AxesImage at 0x110f4ff60>"
      ]
     },
     "execution_count": 189,
     "metadata": {},
     "output_type": "execute_result"
    },
    {
     "data": {
      "image/png": "[encoded data removed]",
      "text/plain": [
       "<matplotlib.figure.Figure at 0x10feb05f8>"
      ]
     },
     "metadata": {},
     "output_type": "display_data"
    },
    {
     "name": "stdout",
     "output_type": "stream",
     "text": [
      "This image is classified as  clock\n",
      "But it is actually fan\n"
     ]
    },
    {
     "data": {
      "text/plain": [
       "<matplotlib.figure.Figure at 0x1112d8160>"
      ]
     },
     "execution_count": 189,
     "metadata": {},
     "output_type": "execute_result"
    },
    {
     "data": {
      "text/plain": [
       "<matplotlib.image.AxesImage at 0x10f8f7828>"
      ]
     },
     "execution_count": 189,
     "metadata": {},
     "output_type": "execute_result"
    },
    {
     "data": {
      "image/png": "[encoded data removed]",
      "text/plain": [
       "<matplotlib.figure.Figure at 0x1112d8160>"
      ]
     },
     "metadata": {},
     "output_type": "display_data"
    },
    {
     "name": "stdout",
     "output_type": "stream",
     "text": [
      "This image is classified as  cookie\n",
      "But it is actually baseball\n"
     ]
    },
    {
     "data": {
      "text/plain": [
       "<matplotlib.figure.Figure at 0x11019bb38>"
      ]
     },
     "execution_count": 189,
     "metadata": {},
     "output_type": "execute_result"
    },
    {
     "data": {
      "text/plain": [
       "<matplotlib.image.AxesImage at 0x10f94a2b0>"
      ]
     },
     "execution_count": 189,
     "metadata": {},
     "output_type": "execute_result"
    },
    {
     "data": {
      "image/png": "[encoded data removed]",
      "text/plain": [
       "<matplotlib.figure.Figure at 0x11019bb38>"
      ]
     },
     "metadata": {},
     "output_type": "display_data"
    },
    {
     "name": "stdout",
     "output_type": "stream",
     "text": [
      "This image is classified as  baseball\n",
      "But it is actually fan\n"
     ]
    },
    {
     "data": {
      "text/plain": [
       "<matplotlib.figure.Figure at 0x11000f550>"
      ]
     },
     "execution_count": 189,
     "metadata": {},
     "output_type": "execute_result"
    },
    {
     "data": {
      "text/plain": [
       "<matplotlib.image.AxesImage at 0x10f990c18>"
      ]
     },
     "execution_count": 189,
     "metadata": {},
     "output_type": "execute_result"
    },
    {
     "data": {
      "image/png": "[encoded data removed]",
      "text/plain": [
       "<matplotlib.figure.Figure at 0x11000f550>"
      ]
     },
     "metadata": {},
     "output_type": "display_data"
    },
    {
     "name": "stdout",
     "output_type": "stream",
     "text": [
      "This image is classified as  baseball\n",
      "But it is actually fan\n"
     ]
    },
    {
     "data": {
      "text/plain": [
       "<matplotlib.figure.Figure at 0x110abb7f0>"
      ]
     },
     "execution_count": 189,
     "metadata": {},
     "output_type": "execute_result"
    },
    {
     "data": {
      "text/plain": [
       "<matplotlib.image.AxesImage at 0x11146e470>"
      ]
     },
     "execution_count": 189,
     "metadata": {},
     "output_type": "execute_result"
    },
    {
     "data": {
      "image/png": "[encoded data removed]",
      "text/plain": [
       "<matplotlib.figure.Figure at 0x110abb7f0>"
      ]
     },
     "metadata": {},
     "output_type": "display_data"
    },
    {
     "name": "stdout",
     "output_type": "stream",
     "text": [
      "This image is classified as  baseball\n",
      "But it is actually apple\n"
     ]
    },
    {
     "data": {
      "text/plain": [
       "<matplotlib.figure.Figure at 0x1114869b0>"
      ]
     },
     "execution_count": 189,
     "metadata": {},
     "output_type": "execute_result"
    },
    {
     "data": {
      "text/plain": [
       "<matplotlib.image.AxesImage at 0x1114c3f28>"
      ]
     },
     "execution_count": 189,
     "metadata": {},
     "output_type": "execute_result"
    },
    {
     "data": {
      "image/png": "[encoded data removed]",
      "text/plain": [
       "<matplotlib.figure.Figure at 0x1114869b0>"
      ]
     },
     "metadata": {},
     "output_type": "display_data"
    },
    {
     "name": "stdout",
     "output_type": "stream",
     "text": [
      "This image is classified as  clock\n",
      "But it is actually cookie\n"
     ]
    },
    {
     "data": {
      "text/plain": [
       "<matplotlib.figure.Figure at 0x111626470>"
      ]
     },
     "execution_count": 189,
     "metadata": {},
     "output_type": "execute_result"
    },
    {
     "data": {
      "text/plain": [
       "<matplotlib.image.AxesImage at 0x11145be48>"
      ]
     },
     "execution_count": 189,
     "metadata": {},
     "output_type": "execute_result"
    },
    {
     "data": {
      "image/png": "[encoded data removed]",
      "text/plain": [
       "<matplotlib.figure.Figure at 0x111626470>"
      ]
     },
     "metadata": {},
     "output_type": "display_data"
    },
    {
     "name": "stdout",
     "output_type": "stream",
     "text": [
      "This image is classified as  baseball\n",
      "But it is actually fan\n"
     ]
    },
    {
     "data": {
      "text/plain": [
       "<matplotlib.figure.Figure at 0x11147a278>"
      ]
     },
     "execution_count": 189,
     "metadata": {},
     "output_type": "execute_result"
    },
    {
     "data": {
      "text/plain": [
       "<matplotlib.image.AxesImage at 0x110019438>"
      ]
     },
     "execution_count": 189,
     "metadata": {},
     "output_type": "execute_result"
    },
    {
     "data": {
      "image/png": "[encoded data removed]",
      "text/plain": [
       "<matplotlib.figure.Figure at 0x11147a278>"
      ]
     },
     "metadata": {},
     "output_type": "display_data"
    },
    {
     "name": "stdout",
     "output_type": "stream",
     "text": [
      "This image is classified as  baseball\n",
      "But it is actually fan\n"
     ]
    },
    {
     "data": {
      "text/plain": [
       "<matplotlib.figure.Figure at 0x110193470>"
      ]
     },
     "execution_count": 189,
     "metadata": {},
     "output_type": "execute_result"
    },
    {
     "data": {
      "text/plain": [
       "<matplotlib.image.AxesImage at 0x10feb0208>"
      ]
     },
     "execution_count": 189,
     "metadata": {},
     "output_type": "execute_result"
    },
    {
     "data": {
      "image/png": "[encoded data removed]",
      "text/plain": [
       "<matplotlib.figure.Figure at 0x110193470>"
      ]
     },
     "metadata": {},
     "output_type": "display_data"
    },
    {
     "name": "stdout",
     "output_type": "stream",
     "text": [
      "This image is classified as  baseball\n",
      "But it is actually fan\n"
     ]
    }
   ],
   "source": [
    "for i in range(0,10):\n",
    "    plt.figure()\n",
    "    plt.imshow(np.resize(wrong[0][i],(HEIGHT,WIDTH)))\n",
    "    plt.show()\n",
    "    print('This image is classified as ',figures[mode[wrong_class_index[0][i]].data.numpy()[0]])\n",
    "    print('But it is actually',figures[val_labels[wrong_class_index[0][i]]])\n",
    "    "
   ]
  },
  {
   "cell_type": "markdown",
   "metadata": {},
   "source": [
    "Actually there arent any qualitative differences between the images. Most of the misclassified images are hard to classify even for us humans."
   ]
  },
  {
   "cell_type": "markdown",
   "metadata": {},
   "source": [
    "Plotting correctly classified images"
   ]
  },
  {
   "cell_type": "code",
   "execution_count": 190,
   "metadata": {},
   "outputs": [
    {
     "data": {
      "text/plain": [
       "<matplotlib.figure.Figure at 0x110017208>"
      ]
     },
     "execution_count": 190,
     "metadata": {},
     "output_type": "execute_result"
    },
    {
     "data": {
      "text/plain": [
       "<matplotlib.image.AxesImage at 0x110f732e8>"
      ]
     },
     "execution_count": 190,
     "metadata": {},
     "output_type": "execute_result"
    },
    {
     "data": {
      "image/png": "[encoded data removed]",
      "text/plain": [
       "<matplotlib.figure.Figure at 0x110017208>"
      ]
     },
     "metadata": {},
     "output_type": "display_data"
    },
    {
     "name": "stdout",
     "output_type": "stream",
     "text": [
      "This image is classified as  clock\n"
     ]
    },
    {
     "data": {
      "text/plain": [
       "<matplotlib.figure.Figure at 0x111556438>"
      ]
     },
     "execution_count": 190,
     "metadata": {},
     "output_type": "execute_result"
    },
    {
     "data": {
      "text/plain": [
       "<matplotlib.image.AxesImage at 0x1104d48d0>"
      ]
     },
     "execution_count": 190,
     "metadata": {},
     "output_type": "execute_result"
    },
    {
     "data": {
      "image/png": "[encoded data removed]",
      "text/plain": [
       "<matplotlib.figure.Figure at 0x111556438>"
      ]
     },
     "metadata": {},
     "output_type": "display_data"
    },
    {
     "name": "stdout",
     "output_type": "stream",
     "text": [
      "This image is classified as  fan\n"
     ]
    },
    {
     "data": {
      "text/plain": [
       "<matplotlib.figure.Figure at 0x110f4e470>"
      ]
     },
     "execution_count": 190,
     "metadata": {},
     "output_type": "execute_result"
    },
    {
     "data": {
      "text/plain": [
       "<matplotlib.image.AxesImage at 0x110a3a2b0>"
      ]
     },
     "execution_count": 190,
     "metadata": {},
     "output_type": "execute_result"
    },
    {
     "data": {
      "image/png": "[encoded data removed]",
      "text/plain": [
       "<matplotlib.figure.Figure at 0x110f4e470>"
      ]
     },
     "metadata": {},
     "output_type": "display_data"
    },
    {
     "name": "stdout",
     "output_type": "stream",
     "text": [
      "This image is classified as  baseball\n"
     ]
    },
    {
     "data": {
      "text/plain": [
       "<matplotlib.figure.Figure at 0x1109fa160>"
      ]
     },
     "execution_count": 190,
     "metadata": {},
     "output_type": "execute_result"
    },
    {
     "data": {
      "text/plain": [
       "<matplotlib.image.AxesImage at 0x1117f1c88>"
      ]
     },
     "execution_count": 190,
     "metadata": {},
     "output_type": "execute_result"
    },
    {
     "data": {
      "image/png": "[encoded data removed]",
      "text/plain": [
       "<matplotlib.figure.Figure at 0x1109fa160>"
      ]
     },
     "metadata": {},
     "output_type": "display_data"
    },
    {
     "name": "stdout",
     "output_type": "stream",
     "text": [
      "This image is classified as  apple\n"
     ]
    },
    {
     "data": {
      "text/plain": [
       "<matplotlib.figure.Figure at 0x11057bac8>"
      ]
     },
     "execution_count": 190,
     "metadata": {},
     "output_type": "execute_result"
    },
    {
     "data": {
      "text/plain": [
       "<matplotlib.image.AxesImage at 0x110a50a20>"
      ]
     },
     "execution_count": 190,
     "metadata": {},
     "output_type": "execute_result"
    },
    {
     "data": {
      "image/png": "[encoded data removed]",
      "text/plain": [
       "<matplotlib.figure.Figure at 0x11057bac8>"
      ]
     },
     "metadata": {},
     "output_type": "display_data"
    },
    {
     "name": "stdout",
     "output_type": "stream",
     "text": [
      "This image is classified as  baseball\n"
     ]
    },
    {
     "data": {
      "text/plain": [
       "<matplotlib.figure.Figure at 0x11088c630>"
      ]
     },
     "execution_count": 190,
     "metadata": {},
     "output_type": "execute_result"
    },
    {
     "data": {
      "text/plain": [
       "<matplotlib.image.AxesImage at 0x110c00048>"
      ]
     },
     "execution_count": 190,
     "metadata": {},
     "output_type": "execute_result"
    },
    {
     "data": {
      "image/png": "[encoded data removed]",
      "text/plain": [
       "<matplotlib.figure.Figure at 0x11088c630>"
      ]
     },
     "metadata": {},
     "output_type": "display_data"
    },
    {
     "name": "stdout",
     "output_type": "stream",
     "text": [
      "This image is classified as  fan\n"
     ]
    },
    {
     "data": {
      "text/plain": [
       "<matplotlib.figure.Figure at 0x1109d8160>"
      ]
     },
     "execution_count": 190,
     "metadata": {},
     "output_type": "execute_result"
    },
    {
     "data": {
      "text/plain": [
       "<matplotlib.image.AxesImage at 0x110749cc0>"
      ]
     },
     "execution_count": 190,
     "metadata": {},
     "output_type": "execute_result"
    },
    {
     "data": {
      "image/png": "[encoded data removed]",
      "text/plain": [
       "<matplotlib.figure.Figure at 0x1109d8160>"
      ]
     },
     "metadata": {},
     "output_type": "display_data"
    },
    {
     "name": "stdout",
     "output_type": "stream",
     "text": [
      "This image is classified as  clock\n"
     ]
    },
    {
     "data": {
      "text/plain": [
       "<matplotlib.figure.Figure at 0x1101f26a0>"
      ]
     },
     "execution_count": 190,
     "metadata": {},
     "output_type": "execute_result"
    },
    {
     "data": {
      "text/plain": [
       "<matplotlib.image.AxesImage at 0x110080128>"
      ]
     },
     "execution_count": 190,
     "metadata": {},
     "output_type": "execute_result"
    },
    {
     "data": {
      "image/png": "[encoded data removed]",
      "text/plain": [
       "<matplotlib.figure.Figure at 0x1101f26a0>"
      ]
     },
     "metadata": {},
     "output_type": "display_data"
    },
    {
     "name": "stdout",
     "output_type": "stream",
     "text": [
      "This image is classified as  baseball\n"
     ]
    },
    {
     "data": {
      "text/plain": [
       "<matplotlib.figure.Figure at 0x10f69ecc0>"
      ]
     },
     "execution_count": 190,
     "metadata": {},
     "output_type": "execute_result"
    },
    {
     "data": {
      "text/plain": [
       "<matplotlib.image.AxesImage at 0x1111fa550>"
      ]
     },
     "execution_count": 190,
     "metadata": {},
     "output_type": "execute_result"
    },
    {
     "data": {
      "image/png": "[encoded data removed]",
      "text/plain": [
       "<matplotlib.figure.Figure at 0x10f69ecc0>"
      ]
     },
     "metadata": {},
     "output_type": "display_data"
    },
    {
     "name": "stdout",
     "output_type": "stream",
     "text": [
      "This image is classified as  apple\n"
     ]
    },
    {
     "data": {
      "text/plain": [
       "<matplotlib.figure.Figure at 0x110830e10>"
      ]
     },
     "execution_count": 190,
     "metadata": {},
     "output_type": "execute_result"
    },
    {
     "data": {
      "text/plain": [
       "<matplotlib.image.AxesImage at 0x10fc76a90>"
      ]
     },
     "execution_count": 190,
     "metadata": {},
     "output_type": "execute_result"
    },
    {
     "data": {
      "image/png": "[encoded data removed]",
      "text/plain": [
       "<matplotlib.figure.Figure at 0x110830e10>"
      ]
     },
     "metadata": {},
     "output_type": "display_data"
    },
    {
     "name": "stdout",
     "output_type": "stream",
     "text": [
      "This image is classified as  clock\n"
     ]
    }
   ],
   "source": [
    "for i in range(0,10):\n",
    "    plt.figure()\n",
    "    plt.imshow(np.resize(correct[0][i],(HEIGHT,WIDTH)))\n",
    "    plt.show()\n",
    "    print('This image is classified as ',figures[mode[correct_class_index[0][i]].data.numpy()[0]])\n"
   ]
  },
  {
   "cell_type": "code",
   "execution_count": 208,
   "metadata": {},
   "outputs": [
    {
     "data": {
      "text/plain": [
       "<matplotlib.image.AxesImage at 0x110f1eb00>"
      ]
     },
     "execution_count": 208,
     "metadata": {},
     "output_type": "execute_result"
    },
    {
     "data": {
      "image/png": "[encoded data removed]",
      "text/plain": [
       "<matplotlib.figure.Figure at 0x1116a00b8>"
      ]
     },
     "metadata": {},
     "output_type": "display_data"
    },
    {
     "name": "stdout",
     "output_type": "stream",
     "text": [
      "This is predicted as clock\n",
      "but it is acutally clock\n"
     ]
    },
    {
     "data": {
      "text/plain": [
       "<matplotlib.image.AxesImage at 0x11057b9e8>"
      ]
     },
     "execution_count": 208,
     "metadata": {},
     "output_type": "execute_result"
    },
    {
     "data": {
      "image/png": "[encoded data removed]",
      "text/plain": [
       "<matplotlib.figure.Figure at 0x110a76588>"
      ]
     },
     "metadata": {},
     "output_type": "display_data"
    },
    {
     "name": "stdout",
     "output_type": "stream",
     "text": [
      "This is predicted as fan\n",
      "but it is acutally fan\n"
     ]
    },
    {
     "data": {
      "text/plain": [
       "<matplotlib.image.AxesImage at 0x10f978b00>"
      ]
     },
     "execution_count": 208,
     "metadata": {},
     "output_type": "execute_result"
    },
    {
     "data": {
      "image/png": "[encoded data removed]",
      "text/plain": [
       "<matplotlib.figure.Figure at 0x11098f240>"
      ]
     },
     "metadata": {},
     "output_type": "display_data"
    },
    {
     "name": "stdout",
     "output_type": "stream",
     "text": [
      "This is predicted as baseball\n",
      "but it is acutally baseball\n"
     ]
    },
    {
     "data": {
      "text/plain": [
       "<matplotlib.image.AxesImage at 0x10f9265f8>"
      ]
     },
     "execution_count": 208,
     "metadata": {},
     "output_type": "execute_result"
    },
    {
     "data": {
      "image/png": "[encoded data removed]",
      "text/plain": [
       "<matplotlib.figure.Figure at 0x1109fb908>"
      ]
     },
     "metadata": {},
     "output_type": "display_data"
    },
    {
     "name": "stdout",
     "output_type": "stream",
     "text": [
      "This is predicted as apple\n",
      "but it is acutally apple\n"
     ]
    },
    {
     "data": {
      "text/plain": [
       "<matplotlib.image.AxesImage at 0x1109bb208>"
      ]
     },
     "execution_count": 208,
     "metadata": {},
     "output_type": "execute_result"
    },
    {
     "data": {
      "image/png": "[encoded data removed]",
      "text/plain": [
       "<matplotlib.figure.Figure at 0x110a9ca90>"
      ]
     },
     "metadata": {},
     "output_type": "display_data"
    },
    {
     "name": "stdout",
     "output_type": "stream",
     "text": [
      "This is predicted as baseball\n",
      "but it is acutally baseball\n"
     ]
    },
    {
     "data": {
      "text/plain": [
       "<matplotlib.image.AxesImage at 0x111c7d748>"
      ]
     },
     "execution_count": 208,
     "metadata": {},
     "output_type": "execute_result"
    },
    {
     "data": {
      "image/png": "[encoded data removed]",
      "text/plain": [
       "<matplotlib.figure.Figure at 0x1104e5160>"
      ]
     },
     "metadata": {},
     "output_type": "display_data"
    },
    {
     "name": "stdout",
     "output_type": "stream",
     "text": [
      "This is predicted as fan\n",
      "but it is acutally fan\n"
     ]
    },
    {
     "data": {
      "text/plain": [
       "<matplotlib.image.AxesImage at 0x10f932710>"
      ]
     },
     "execution_count": 208,
     "metadata": {},
     "output_type": "execute_result"
    },
    {
     "data": {
      "image/png": "[encoded data removed]",
      "text/plain": [
       "<matplotlib.figure.Figure at 0x110a24c18>"
      ]
     },
     "metadata": {},
     "output_type": "display_data"
    },
    {
     "name": "stdout",
     "output_type": "stream",
     "text": [
      "This is predicted as clock\n",
      "but it is acutally clock\n"
     ]
    },
    {
     "data": {
      "text/plain": [
       "<matplotlib.image.AxesImage at 0x110959668>"
      ]
     },
     "execution_count": 208,
     "metadata": {},
     "output_type": "execute_result"
    },
    {
     "data": {
      "image/png": "[encoded data removed]",
      "text/plain": [
       "<matplotlib.figure.Figure at 0x1114acd30>"
      ]
     },
     "metadata": {},
     "output_type": "display_data"
    },
    {
     "name": "stdout",
     "output_type": "stream",
     "text": [
      "This is predicted as baseball\n",
      "but it is acutally baseball\n"
     ]
    },
    {
     "data": {
      "text/plain": [
       "<matplotlib.image.AxesImage at 0x11417b6d8>"
      ]
     },
     "execution_count": 208,
     "metadata": {},
     "output_type": "execute_result"
    },
    {
     "data": {
      "image/png": "[encoded data removed]",
      "text/plain": [
       "<matplotlib.figure.Figure at 0x110005f28>"
      ]
     },
     "metadata": {},
     "output_type": "display_data"
    },
    {
     "name": "stdout",
     "output_type": "stream",
     "text": [
      "This is predicted as apple\n",
      "but it is acutally apple\n"
     ]
    },
    {
     "data": {
      "text/plain": [
       "<matplotlib.image.AxesImage at 0x116264f60>"
      ]
     },
     "execution_count": 208,
     "metadata": {},
     "output_type": "execute_result"
    },
    {
     "data": {
      "image/png": "[encoded data removed]",
      "text/plain": [
       "<matplotlib.figure.Figure at 0x110908f28>"
      ]
     },
     "metadata": {},
     "output_type": "display_data"
    },
    {
     "name": "stdout",
     "output_type": "stream",
     "text": [
      "This is predicted as clock\n",
      "but it is acutally clock\n"
     ]
    }
   ],
   "source": [
    "def val_prediction_mode_index(imag):\n",
    "    x = autograd.Variable(torch.from_numpy(imag.astype(np.float32)))\n",
    "    y_hat_ = model.eval(x)\n",
    "    temp,y_hat = torch.max(y_hat_,1)\n",
    "    return y_hat\n",
    "\n",
    "\n",
    "for i in range(0,10):\n",
    "    temp = np.resize(correct[0][i],(HEIGHT,WIDTH))\n",
    "    max = np.max(temp)\n",
    "    min = np.min(temp)\n",
    "    mean = 0\n",
    "    std_dev = (max-min)/10\n",
    "    noise = np.random.normal(mean,std_dev,(26,26))\n",
    "    temp = temp+noise\n",
    "    plt.imshow(temp)\n",
    "    plt.show()\n",
    "    #perform prediction\n",
    "    predict = val_prediction_mode_index(temp)\n",
    "    print('This is predicted as',figures[predict.data.numpy()[0]])\n",
    "    print('but it is acutally',figures[mode[correct_class_index[0][i]].data.numpy()[0]])\n",
    "    \n"
   ]
  },
  {
   "cell_type": "markdown",
   "metadata": {},
   "source": [
    "It actually predicts the label correctly even after adding gaussian noise"
   ]
  },
  {
   "cell_type": "code",
   "execution_count": 210,
   "metadata": {},
   "outputs": [
    {
     "data": {
      "text/plain": [
       "<matplotlib.image.AxesImage at 0x110c1f898>"
      ]
     },
     "execution_count": 210,
     "metadata": {},
     "output_type": "execute_result"
    },
    {
     "data": {
      "image/png": "[encoded data removed]",
      "text/plain": [
       "<matplotlib.figure.Figure at 0x11417b438>"
      ]
     },
     "metadata": {},
     "output_type": "display_data"
    },
    {
     "name": "stdout",
     "output_type": "stream",
     "text": [
      "This is predicted as clock\n",
      "but it is acutally clock\n"
     ]
    },
    {
     "data": {
      "text/plain": [
       "<matplotlib.image.AxesImage at 0x10fc6af28>"
      ]
     },
     "execution_count": 210,
     "metadata": {},
     "output_type": "execute_result"
    },
    {
     "data": {
      "image/png": "[encoded data removed]",
      "text/plain": [
       "<matplotlib.figure.Figure at 0x111eced68>"
      ]
     },
     "metadata": {},
     "output_type": "display_data"
    },
    {
     "name": "stdout",
     "output_type": "stream",
     "text": [
      "This is predicted as baseball\n",
      "but it is acutally fan\n"
     ]
    },
    {
     "data": {
      "text/plain": [
       "<matplotlib.image.AxesImage at 0x1100ab908>"
      ]
     },
     "execution_count": 210,
     "metadata": {},
     "output_type": "execute_result"
    },
    {
     "data": {
      "image/png": "[encoded data removed]",
      "text/plain": [
       "<matplotlib.figure.Figure at 0x10f85ae48>"
      ]
     },
     "metadata": {},
     "output_type": "display_data"
    },
    {
     "name": "stdout",
     "output_type": "stream",
     "text": [
      "This is predicted as baseball\n",
      "but it is acutally baseball\n"
     ]
    },
    {
     "data": {
      "text/plain": [
       "<matplotlib.image.AxesImage at 0x10f926198>"
      ]
     },
     "execution_count": 210,
     "metadata": {},
     "output_type": "execute_result"
    },
    {
     "data": {
      "image/png": "[encoded data removed]",
      "text/plain": [
       "<matplotlib.figure.Figure at 0x110752dd8>"
      ]
     },
     "metadata": {},
     "output_type": "display_data"
    },
    {
     "name": "stdout",
     "output_type": "stream",
     "text": [
      "This is predicted as apple\n",
      "but it is acutally apple\n"
     ]
    },
    {
     "data": {
      "text/plain": [
       "<matplotlib.image.AxesImage at 0x110912ba8>"
      ]
     },
     "execution_count": 210,
     "metadata": {},
     "output_type": "execute_result"
    },
    {
     "data": {
      "image/png": "[encoded data removed]",
      "text/plain": [
       "<matplotlib.figure.Figure at 0x111490710>"
      ]
     },
     "metadata": {},
     "output_type": "display_data"
    },
    {
     "name": "stdout",
     "output_type": "stream",
     "text": [
      "This is predicted as baseball\n",
      "but it is acutally baseball\n"
     ]
    },
    {
     "data": {
      "text/plain": [
       "<matplotlib.image.AxesImage at 0x110c00fd0>"
      ]
     },
     "execution_count": 210,
     "metadata": {},
     "output_type": "execute_result"
    },
    {
     "data": {
      "image/png": "[encoded data removed]",
      "text/plain": [
       "<matplotlib.figure.Figure at 0x11088e4a8>"
      ]
     },
     "metadata": {},
     "output_type": "display_data"
    },
    {
     "name": "stdout",
     "output_type": "stream",
     "text": [
      "This is predicted as fan\n",
      "but it is acutally fan\n"
     ]
    },
    {
     "data": {
      "text/plain": [
       "<matplotlib.image.AxesImage at 0x11002e940>"
      ]
     },
     "execution_count": 210,
     "metadata": {},
     "output_type": "execute_result"
    },
    {
     "data": {
      "image/png": "[encoded data removed]",
      "text/plain": [
       "<matplotlib.figure.Figure at 0x10fee76d8>"
      ]
     },
     "metadata": {},
     "output_type": "display_data"
    },
    {
     "name": "stdout",
     "output_type": "stream",
     "text": [
      "This is predicted as clock\n",
      "but it is acutally clock\n"
     ]
    },
    {
     "data": {
      "text/plain": [
       "<matplotlib.image.AxesImage at 0x11416a0b8>"
      ]
     },
     "execution_count": 210,
     "metadata": {},
     "output_type": "execute_result"
    },
    {
     "data": {
      "image/png": "[encoded data removed]",
      "text/plain": [
       "<matplotlib.figure.Figure at 0x10f9337b8>"
      ]
     },
     "metadata": {},
     "output_type": "display_data"
    },
    {
     "name": "stdout",
     "output_type": "stream",
     "text": [
      "This is predicted as baseball\n",
      "but it is acutally baseball\n"
     ]
    },
    {
     "data": {
      "text/plain": [
       "<matplotlib.image.AxesImage at 0x122185320>"
      ]
     },
     "execution_count": 210,
     "metadata": {},
     "output_type": "execute_result"
    },
    {
     "data": {
      "image/png": "[encoded data removed]",
      "text/plain": [
       "<matplotlib.figure.Figure at 0x10fedcb38>"
      ]
     },
     "metadata": {},
     "output_type": "display_data"
    },
    {
     "name": "stdout",
     "output_type": "stream",
     "text": [
      "This is predicted as apple\n",
      "but it is acutally apple\n"
     ]
    },
    {
     "data": {
      "text/plain": [
       "<matplotlib.image.AxesImage at 0x114165fd0>"
      ]
     },
     "execution_count": 210,
     "metadata": {},
     "output_type": "execute_result"
    },
    {
     "data": {
      "image/png": "[encoded data removed]",
      "text/plain": [
       "<matplotlib.figure.Figure at 0x111cf3c18>"
      ]
     },
     "metadata": {},
     "output_type": "display_data"
    },
    {
     "name": "stdout",
     "output_type": "stream",
     "text": [
      "This is predicted as clock\n",
      "but it is acutally clock\n"
     ]
    }
   ],
   "source": [
    "def val_prediction_mode_index(imag):\n",
    "    x = autograd.Variable(torch.from_numpy(imag.astype(np.float32)))\n",
    "    y_hat_ = model.eval(x)\n",
    "    temp,y_hat = torch.max(y_hat_,1)\n",
    "    return y_hat\n",
    "\n",
    "\n",
    "for i in range(0,10):\n",
    "    temp = np.resize(correct[0][i],(HEIGHT,WIDTH))\n",
    "    temp = np.flip(temp,1)\n",
    "    plt.imshow(temp)\n",
    "    plt.show()\n",
    "    #perform prediction\n",
    "    predict = val_prediction_mode_index(temp)\n",
    "    print('This is predicted as',figures[predict.data.numpy()[0]])\n",
    "    print('but it is acutally',figures[mode[correct_class_index[0][i]].data.numpy()[0]])\n",
    "    \n",
    "\n"
   ]
  },
  {
   "cell_type": "markdown",
   "metadata": {},
   "source": [
    "As you can see, there is a misprediction in the second image, where the image is a fan but our network predicted it as a baseball. So accuracy = 9/10"
   ]
  },
  {
   "cell_type": "markdown",
   "metadata": {},
   "source": [
    "-  No it need not be a failure, since sometimes, the flipped images could mean something else(eg. during pose detection of objects)\n",
    "-  If we want to make the network invariant to flipping, we can generate data on the go during training. i.e during training, we can flip a small no of images in random before passing it through our cnn\n"
   ]
  },
  {
   "cell_type": "markdown",
   "metadata": {},
   "source": [
    "__KAGGLE USERNAME__ = __Lash__ "
   ]
  },
  {
   "cell_type": "code",
   "execution_count": null,
   "metadata": {},
   "outputs": [],
   "source": []
  }
 ],
 "metadata": {
  "kernelspec": {
   "display_name": "Python 3",
   "language": "python",
   "name": "python3"
  },
  "language_info": {
   "codemirror_mode": {
    "name": "ipython",
    "version": 3
   },
   "file_extension": ".py",
   "mimetype": "text/x-python",
   "name": "python",
   "nbconvert_exporter": "python",
   "pygments_lexer": "ipython3",
   "version": "3.6.2"
  }
 },
 "nbformat": 4,
 "nbformat_minor": 2
}
