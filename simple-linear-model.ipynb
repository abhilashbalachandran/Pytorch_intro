{
 "cells": [
  {
   "cell_type": "code",
   "execution_count": 1,
   "metadata": {},
   "outputs": [
    {
     "name": "stdout",
     "output_type": "stream",
     "text": [
      "50000\n",
      "[4 0 0 ..., 3 4 3]\n"
     ]
    }
   ],
   "source": [
    "%matplotlib inline\n",
    "import matplotlib.pyplot as plt\n",
    "import numpy as np\n",
    "from __future__ import print_function\n",
    "import torch\n",
    "from torch import autograd\n",
    "from torch.autograd import Variable\n",
    "import torch.nn.functional as F\n",
    "from IPython.display import clear_output\n",
    "import time\n",
    "\n",
    "images = np.load('images.npy')\n",
    "labels = np.load('labels.npy')\n",
    "num_images,height,width = np.shape(images)\n",
    "images = images.astype(float)\n",
    "images = np.reshape(images,(num_images,height*width))/255.0\n",
    "np.shape(images)\n",
    "print(num_images)\n",
    "\n",
    "labels = labels.astype(int)\n",
    "print(labels)\n",
    "\n",
    "\n",
    "x_valid = images[45000:50000][:]\n",
    "#print(np.shape(x_valid))\n",
    "y_valid = labels[45000:50000]\n",
    "#print(np.shape(y_valid))\n",
    "\n",
    "x_train = images[0:45000][:]\n",
    "#print(np.shape(x_train))\n",
    "y_train = labels[0:45000]\n",
    "#print(np.shape(y_train))\n",
    "\n",
    "\n",
    "train_seqs = x_train\n",
    "train_labels = y_train\n",
    "\n",
    "val_seqs = x_valid\n",
    "val_labels = y_valid\n",
    "#x = images\n",
    "#labels = labels\n",
    "#print(np.shape(x))\n",
    "#print(np.shape(y))\n",
    "\n",
    "#constants\n",
    "HEIGHT = np.shape(train_seqs)[1]\n",
    "WIDTH = 1\n",
    "max_count = np.bincount(train_labels)\n",
    "NUM_CLASSES = np.size(max_count)\n",
    "NUM_EXAMPLES = np.shape(train_seqs)[0]"
   ]
  },
  {
   "cell_type": "markdown",
   "metadata": {},
   "source": [
    "Random classifier would have an accuracy of 20%. As you can see, each class actually has the same no of labels, meaning accuracy  = 1/5*100 = 20%"
   ]
  },
  {
   "cell_type": "code",
   "execution_count": 2,
   "metadata": {},
   "outputs": [],
   "source": [
    "#linear model\n",
    "class LinearModel(torch.nn.Module):\n",
    "    def __init__(self):\n",
    "        super().__init__()\n",
    "        self.linear = torch.nn.Linear(HEIGHT*WIDTH, NUM_CLASSES)\n",
    "    def forward(self, x):\n",
    "        x = self.linear(x)\n",
    "        return x"
   ]
  },
  {
   "cell_type": "markdown",
   "metadata": {},
   "source": [
    "No of weights = No of features in the training set = HEIGHT*WIDTH. Since we havent explicitly set \"bias=True\" in the torch.nn.Linear module, there is no additive bias. i.e no of additive biases = 0"
   ]
  },
  {
   "cell_type": "code",
   "execution_count": 3,
   "metadata": {},
   "outputs": [],
   "source": [
    "model = LinearModel()"
   ]
  },
  {
   "cell_type": "markdown",
   "metadata": {},
   "source": [
    "In the previous homeworks, we implemented the following 2 optimization algorithms:\n",
    "1. SGD : Need to provide parameters of the model (params), learning rate(lr)\n",
    "2. ADAM: Need to provide parameters of the model (params), learning rate (lr)"
   ]
  },
  {
   "cell_type": "code",
   "execution_count": 4,
   "metadata": {},
   "outputs": [],
   "source": [
    "optimizer = torch.optim.SGD(model.parameters(), lr=1e-4)"
   ]
  },
  {
   "cell_type": "code",
   "execution_count": 5,
   "metadata": {},
   "outputs": [],
   "source": [
    "def train(batch_size):\n",
    "    #model.train() puts our model in train mode, which can require different behaviour than eval mode (for example\n",
    "    #in the case of dropout\n",
    "    #model.train()\n",
    "    #i is a 1 dimensional array with shape[batch_size]\n",
    "    i = np.random.choice(train_seqs.shape[0], size=batch_size, replace=False)\n",
    "    x = autograd.Variable(torch.from_numpy(train_seqs[i].astype(np.float32)))\n",
    "    y = autograd.Variable(torch.from_numpy(train_labels[i].astype(np.int)))\n",
    "    optimizer.zero_grad()\n",
    "    y_hat_ = model(x)\n",
    "    loss = F.cross_entropy(y_hat_, y)\n",
    "    loss.backward()\n",
    "    optimizer.step()\n",
    "    return loss.data[0]"
   ]
  },
  {
   "cell_type": "code",
   "execution_count": 6,
   "metadata": {},
   "outputs": [],
   "source": [
    "def approx_train_accuracy():\n",
    "    i = np.random.choice(train_seqs.shape[0], size=1000, replace=False)\n",
    "    x = autograd.Variable(torch.from_numpy(train_seqs[i].astype(np.float32)))\n",
    "    y = autograd.Variable(torch.from_numpy(train_labels[i].astype(np.float32)))\n",
    "    y_hat_ = model(x)\n",
    "    temp,y_hat = torch.max(y_hat_,1)\n",
    "    return accuracy(y,y_hat)\n",
    "    "
   ]
  },
  {
   "cell_type": "code",
   "execution_count": 7,
   "metadata": {},
   "outputs": [],
   "source": [
    "def approx_val_accuracy():\n",
    "    i = np.random.choice(train_seqs.shape[0], size=1000, replace=False)\n",
    "    x = autograd.Variable(torch.from_numpy(val_seqs.astype(np.float32)))\n",
    "    y = autograd.Variable(torch.from_numpy(val_labels.astype(np.float32)))\n",
    "    y_hat_ = model(x)\n",
    "    temp,y_hat = torch.max(y_hat_,1)\n",
    "    return accuracy(y,y_hat)\n",
    "    "
   ]
  },
  {
   "cell_type": "code",
   "execution_count": 8,
   "metadata": {},
   "outputs": [],
   "source": [
    "def accuracy(y,y_hat):\n",
    "    correct = np.count_nonzero(y_hat.data.numpy()==y.data.numpy())\n",
    "    return correct/y.data.shape[0]"
   ]
  },
  {
   "cell_type": "code",
   "execution_count": 9,
   "metadata": {},
   "outputs": [
    {
     "name": "stdout",
     "output_type": "stream",
     "text": [
      "     0 21.60 20.70\n",
      "   100 23.00 21.58\n",
      "   200 22.20 23.00\n",
      "   300 25.10 24.32\n",
      "   400 24.70 26.22\n",
      "   500 27.90 27.72\n",
      "   600 30.40 30.00\n",
      "   700 32.30 30.54\n",
      "   800 33.50 31.86\n",
      "   900 32.80 33.06\n",
      "  1000 34.20 34.06\n",
      "  1100 34.60 36.76\n",
      "  1200 38.30 40.78\n",
      "  1300 41.70 42.20\n",
      "  1400 41.90 44.40\n",
      "  1500 44.70 45.56\n",
      "  1600 47.50 45.74\n",
      "  1700 45.50 47.42\n",
      "  1800 46.90 48.12\n",
      "  1900 49.30 49.52\n",
      "  2000 49.70 49.90\n",
      "  2100 54.00 51.10\n",
      "  2200 50.00 51.34\n",
      "  2300 52.60 51.68\n",
      "  2400 48.40 52.64\n",
      "  2500 52.70 52.96\n",
      "  2600 55.00 53.96\n",
      "  2700 52.50 54.42\n",
      "  2800 53.90 54.84\n",
      "  2900 54.10 54.60\n",
      "  3000 55.70 55.46\n",
      "  3100 55.60 55.22\n",
      "  3200 55.60 56.14\n",
      "  3300 56.30 56.32\n",
      "  3400 60.70 57.18\n",
      "  3500 57.70 57.12\n",
      "  3600 55.20 56.76\n",
      "  3700 59.00 56.70\n",
      "  3800 55.90 56.38\n",
      "  3900 55.40 56.36\n",
      "  4000 53.00 57.40\n",
      "  4100 53.80 57.48\n",
      "  4200 58.80 58.78\n",
      "  4300 56.10 58.88\n",
      "  4400 54.50 58.94\n",
      "  4500 59.60 59.56\n",
      "  4600 60.10 59.68\n",
      "  4700 58.00 59.78\n",
      "  4800 58.90 60.50\n",
      "  4900 57.60 60.14\n",
      "Total training time approx. = 11.16114091873169 secs\n"
     ]
    }
   ],
   "source": [
    "for m in model.children():\n",
    "    m.reset_parameters()\n",
    "\n",
    "NUM_OPT_STEPS = 5000\n",
    "batch_size = 1;\n",
    "\n",
    "\n",
    "t = time.time()\n",
    "\n",
    "train_accs, val_accs =[], []\n",
    "for i in range(NUM_OPT_STEPS):\n",
    "    loss = train(batch_size)\n",
    "    if i%100==0:\n",
    "        train_accs.append(approx_train_accuracy())\n",
    "        val_accs.append(approx_val_accuracy())\n",
    "        print(\"%6d %5.2f %5.2f\"%(i,train_accs[-1]*100,val_accs[-1]*100))\n",
    "        \n",
    "elapsed = time.time() - t\n",
    "print('Total training time approx. =',elapsed,'secs')"
   ]
  },
  {
   "cell_type": "code",
   "execution_count": 10,
   "metadata": {},
   "outputs": [
    {
     "name": "stdout",
     "output_type": "stream",
     "text": [
      "average accuracy =  0.4717\n"
     ]
    },
    {
     "data": {
      "image/png": "[encoded data removed]",
      "text/plain": [
       "<matplotlib.figure.Figure at 0x10a024eb8>"
      ]
     },
     "metadata": {},
     "output_type": "display_data"
    }
   ],
   "source": [
    "plt.plot(train_accs)\n",
    "plt.title('Training accuracy')\n",
    "plt.ylabel('accuracy')\n",
    "plt.xlabel('optimization steps')\n",
    "print('average accuracy = ',np.mean(train_accs))"
   ]
  },
  {
   "cell_type": "code",
   "execution_count": 11,
   "metadata": {},
   "outputs": [
    {
     "name": "stdout",
     "output_type": "stream",
     "text": [
      "average accuracy =  0.477156\n"
     ]
    },
    {
     "data": {
      "image/png": "[encoded data removed]",
      "text/plain": [
       "<matplotlib.figure.Figure at 0x10a0248d0>"
      ]
     },
     "metadata": {},
     "output_type": "display_data"
    }
   ],
   "source": [
    "plt.plot(val_accs)\n",
    "plt.title('Validation accuracy')\n",
    "plt.ylabel('accuracy')\n",
    "plt.xlabel('optimization steps')\n",
    "print('average accuracy = ',np.mean(val_accs))"
   ]
  },
  {
   "cell_type": "markdown",
   "metadata": {},
   "source": [
    "Top train accuracy = 62.10% Top Validation accuracy = 60.94%\n",
    "\n",
    "Problem: using too low learning rate, batch_size and step stize. Need to fine tune these parameters to fit the model better"
   ]
  },
  {
   "cell_type": "code",
   "execution_count": 25,
   "metadata": {},
   "outputs": [],
   "source": [
    "#fine tuning the parameters\n",
    "#constants\n",
    "HEIGHT = np.shape(train_seqs)[1]\n",
    "WIDTH = 1\n",
    "max_count = np.bincount(train_labels)\n",
    "NUM_CLASSES = np.size(max_count)\n",
    "NUM_EXAMPLES = np.shape(train_seqs)[0]\n",
    "NUM_OPT_STEPS = 10000\n",
    "batch_size = 1;"
   ]
  },
  {
   "cell_type": "code",
   "execution_count": 26,
   "metadata": {},
   "outputs": [],
   "source": [
    "#reset parameters\n",
    "for m in model.children():\n",
    "    m.reset_parameters()\n",
    "optimizer = torch.optim.Adam(model.parameters(), lr=1e-3)"
   ]
  },
  {
   "cell_type": "code",
   "execution_count": 27,
   "metadata": {},
   "outputs": [
    {
     "name": "stdout",
     "output_type": "stream",
     "text": [
      "     0 23.60 21.62\n",
      "   100 52.50 54.28\n",
      "   200 60.40 62.32\n",
      "   300 61.80 64.76\n",
      "   400 64.90 67.60\n",
      "   500 67.30 67.92\n",
      "   600 66.70 67.60\n",
      "   700 65.60 69.54\n",
      "   800 67.40 70.52\n",
      "   900 69.20 70.22\n",
      "  1000 73.10 71.88\n",
      "  1100 69.60 70.26\n",
      "  1200 66.30 67.92\n",
      "  1300 71.30 68.84\n",
      "  1400 71.40 73.12\n",
      "  1500 70.20 72.64\n",
      "  1600 72.00 74.16\n",
      "  1700 71.20 72.84\n",
      "  1800 74.00 74.32\n",
      "  1900 71.00 72.58\n",
      "  2000 71.60 73.44\n",
      "  2100 73.10 72.10\n",
      "  2200 71.70 72.76\n",
      "  2300 72.20 74.02\n",
      "  2400 76.80 74.62\n",
      "  2500 72.00 73.94\n",
      "  2600 74.50 73.24\n",
      "  2700 67.30 70.04\n",
      "  2800 76.20 75.40\n",
      "  2900 71.60 71.02\n",
      "  3000 73.20 74.14\n",
      "  3100 71.20 73.88\n",
      "  3200 69.60 72.66\n",
      "  3300 73.30 73.62\n",
      "  3400 74.40 75.26\n",
      "  3500 68.50 70.52\n",
      "  3600 75.00 74.70\n",
      "  3700 73.00 72.56\n",
      "  3800 72.10 75.14\n",
      "  3900 71.30 73.92\n",
      "  4000 75.10 75.14\n",
      "  4100 71.20 75.08\n",
      "  4200 74.30 75.54\n",
      "  4300 70.00 74.22\n",
      "  4400 73.20 74.04\n",
      "  4500 71.20 74.10\n",
      "  4600 74.10 74.30\n",
      "  4700 72.60 75.16\n",
      "  4800 72.30 75.44\n",
      "  4900 75.00 75.38\n",
      "  5000 74.10 76.42\n",
      "  5100 73.90 74.16\n",
      "  5200 74.40 75.02\n",
      "  5300 72.60 75.12\n",
      "  5400 75.70 74.84\n",
      "  5500 76.40 75.06\n",
      "  5600 74.60 75.70\n",
      "  5700 77.30 75.18\n",
      "  5800 71.60 74.04\n",
      "  5900 76.90 75.76\n",
      "  6000 71.70 74.24\n",
      "  6100 73.10 75.24\n",
      "  6200 76.00 75.28\n",
      "  6300 73.10 75.42\n",
      "  6400 76.20 75.70\n",
      "  6500 74.80 76.46\n",
      "  6600 73.90 76.44\n",
      "  6700 74.10 75.88\n",
      "  6800 72.90 75.84\n",
      "  6900 72.10 73.68\n",
      "  7000 74.20 75.70\n",
      "  7100 74.10 75.50\n",
      "  7200 71.60 74.24\n",
      "  7300 73.40 75.54\n",
      "  7400 74.60 75.86\n",
      "  7500 74.40 75.94\n",
      "  7600 73.40 75.74\n",
      "  7700 74.90 75.64\n",
      "  7800 72.30 73.34\n",
      "  7900 74.20 75.42\n",
      "  8000 74.10 75.82\n",
      "  8100 73.60 74.86\n",
      "  8200 74.90 75.34\n",
      "  8300 72.40 73.72\n",
      "  8400 69.60 74.14\n",
      "  8500 72.20 73.18\n",
      "  8600 73.40 73.72\n",
      "  8700 73.20 74.38\n",
      "  8800 73.40 73.76\n",
      "  8900 71.80 74.42\n",
      "  9000 74.20 73.62\n",
      "  9100 72.70 74.48\n",
      "  9200 72.40 72.90\n",
      "  9300 75.00 74.68\n",
      "  9400 74.00 75.96\n",
      "  9500 77.40 76.40\n",
      "  9600 76.80 75.44\n",
      "  9700 75.50 74.80\n",
      "  9800 75.20 75.52\n",
      "  9900 73.10 75.34\n",
      "Total training time approx. = 27.80029797554016 secs\n"
     ]
    }
   ],
   "source": [
    "t = time.time()\n",
    "train_accs, val_accs =[], []\n",
    "for i in range(NUM_OPT_STEPS):\n",
    "    loss = train(batch_size)\n",
    "    if i%100==0:\n",
    "        train_accs.append(approx_train_accuracy())\n",
    "        val_accs.append(approx_val_accuracy())\n",
    "        print(\"%6d %5.2f %5.2f\"%(i,train_accs[-1]*100,val_accs[-1]*100))\n",
    "        \n",
    "elapsed = time.time() - t\n",
    "print('Total training time approx. =',elapsed,'secs')"
   ]
  },
  {
   "cell_type": "code",
   "execution_count": 28,
   "metadata": {},
   "outputs": [
    {
     "name": "stdout",
     "output_type": "stream",
     "text": [
      "average accuracy =  0.71845\n"
     ]
    },
    {
     "data": {
      "image/png": "[encoded data removed]",
      "text/plain": [
       "<matplotlib.figure.Figure at 0x10e58b198>"
      ]
     },
     "metadata": {},
     "output_type": "display_data"
    }
   ],
   "source": [
    "plt.plot(train_accs)\n",
    "plt.title('Training accuracy')\n",
    "plt.ylabel('accuracy')\n",
    "plt.xlabel('optimization steps')\n",
    "print('average accuracy = ',np.mean(train_accs))"
   ]
  },
  {
   "cell_type": "code",
   "execution_count": 29,
   "metadata": {},
   "outputs": [
    {
     "name": "stdout",
     "output_type": "stream",
     "text": [
      "average accuracy =  0.73012\n"
     ]
    },
    {
     "data": {
      "image/png": "[encoded data removed]",
      "text/plain": [
       "<matplotlib.figure.Figure at 0x10e580eb8>"
      ]
     },
     "metadata": {},
     "output_type": "display_data"
    }
   ],
   "source": [
    "plt.plot(val_accs)\n",
    "plt.title('Validation accuracy')\n",
    "plt.ylabel('accuracy')\n",
    "plt.xlabel('optimization steps')\n",
    "print('average accuracy = ',np.mean(val_accs))"
   ]
  },
  {
   "cell_type": "code",
   "execution_count": 30,
   "metadata": {},
   "outputs": [
    {
     "name": "stdout",
     "output_type": "stream",
     "text": [
      "Max training accuracy= 0.774 for 10000 optimization steps\n",
      "Max validation accuracy= 0.7646 for 10000 optimization steps\n",
      "batch_size= 1\n",
      "Learning rate= 0.001\n",
      "optimizer = Adam\n",
      "Total training time approx. = 27.80029797554016 secs\n"
     ]
    }
   ],
   "source": [
    "print('Max training accuracy=',np.max(train_accs), 'for',NUM_OPT_STEPS ,'optimization steps')\n",
    "print('Max validation accuracy=',np.max(val_accs), 'for',NUM_OPT_STEPS, 'optimization steps')\n",
    "print('batch_size=',batch_size)\n",
    "print('Learning rate=',1e-3)\n",
    "print('optimizer = Adam')\n",
    "print('Total training time approx. =',elapsed,'secs')"
   ]
  }
 ],
 "metadata": {
  "kernelspec": {
   "display_name": "Python 3",
   "language": "python",
   "name": "python3"
  },
  "language_info": {
   "codemirror_mode": {
    "name": "ipython",
    "version": 3
   },
   "file_extension": ".py",
   "mimetype": "text/x-python",
   "name": "python",
   "nbconvert_exporter": "python",
   "pygments_lexer": "ipython3",
   "version": "3.6.2"
  }
 },
 "nbformat": 4,
 "nbformat_minor": 2
}
