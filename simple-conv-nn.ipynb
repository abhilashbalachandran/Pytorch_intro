{
 "cells": [
  {
   "cell_type": "markdown",
   "metadata": {},
   "source": [
    "In fully connected neural networks, weights are not shared across neighbouring regions, i.e there is a single weight value which is applied on a single pixel value whereas in a conv neural net, a convolution is applied. This means that the weights of nearby regions influence the output from each layer."
   ]
  },
  {
   "cell_type": "code",
   "execution_count": 1,
   "metadata": {},
   "outputs": [],
   "source": [
    "%matplotlib inline\n",
    "import matplotlib.pyplot as plt\n",
    "import numpy as np\n",
    "from __future__ import print_function\n",
    "import torch\n",
    "from torch import autograd\n",
    "from torch.autograd import Variable\n",
    "import torch.nn.functional as F\n",
    "from IPython.display import clear_output\n",
    "import time\n",
    "\n",
    "images = np.load('images.npy')\n",
    "labels = np.load('labels.npy')\n",
    "num_images,height,width = np.shape(images)\n",
    "images = images.astype(float)\n",
    "HEIGHT = images.shape[1]\n",
    "WIDTH = images.shape[2]\n",
    "images = np.reshape(images,(num_images,height*width))\n",
    "\n",
    "\n",
    "\n",
    "labels = labels.astype(int)\n",
    "\n",
    "\n",
    "\n",
    "x_valid = images[45000:50000][:]\n",
    "\n",
    "y_valid = labels[45000:50000]\n",
    "\n",
    "\n",
    "x_train = images[0:45000][:]\n",
    "\n",
    "y_train = labels[0:45000]\n",
    "\n",
    "\n",
    "\n",
    "train_seqs = x_train\n",
    "train_labels = y_train\n",
    "\n",
    "val_seqs = x_valid\n",
    "val_labels = y_valid\n",
    "\n",
    "\n",
    "#constants\n",
    "max_count = np.bincount(train_labels)\n",
    "NUM_CLASSES = np.size(max_count)\n",
    "NUM_EXAMPLES = np.shape(train_seqs)[0]\n",
    "NUM_OPT_STEPS = 2000\n",
    "batch_size = 10;\n",
    "\n"
   ]
  },
  {
   "cell_type": "code",
   "execution_count": 2,
   "metadata": {},
   "outputs": [],
   "source": [
    "class TooSimpleConvNN(torch.nn.Module):\n",
    "    def __init__(self):\n",
    "        super().__init__()\n",
    "        # 3x3 convolution that takes in an image with one channel\n",
    "        # and outputs an image with 8 channels.\n",
    "        self.conv1 = torch.nn.Conv2d(1, 8, kernel_size=3)\n",
    "        # 3x3 convolution that takes in an image with 8 channels\n",
    "        # and outputs an image with 16 channels. The output image\n",
    "        # has approximately half the height and half the width\n",
    "        # because of the stride of 2.\n",
    "        self.conv2 = torch.nn.Conv2d(8, 16, kernel_size=3, stride=2)\n",
    "        # 1x1 convolution that takes in an image with 16 channels and\n",
    "        # produces an image with 5 channels. Here, the 5 channels\n",
    "        # will correspond to class scores.\n",
    "        self.final_conv = torch.nn.Conv2d(16, 5, kernel_size=1)\n",
    "    def forward(self, x):\n",
    "        # Convolutions work with images of shape\n",
    "        # [batch_size, num_channels, height, width]\n",
    "        x = x.view(-1, HEIGHT, WIDTH).unsqueeze(1)\n",
    "        x = F.relu(self.conv1(x))\n",
    "        x = F.relu(self.conv2(x))\n",
    "        n, c, h, w = x.size()\n",
    "        x = F.avg_pool2d(x, kernel_size=[h, w])\n",
    "        x = self.final_conv(x).view(-1, NUM_CLASSES)\n",
    "        return x"
   ]
  },
  {
   "cell_type": "code",
   "execution_count": 3,
   "metadata": {},
   "outputs": [],
   "source": [
    "model = TooSimpleConvNN()"
   ]
  },
  {
   "cell_type": "code",
   "execution_count": 4,
   "metadata": {},
   "outputs": [],
   "source": [
    "optimizer = torch.optim.Adam(model.parameters(), lr=1e-3)"
   ]
  },
  {
   "cell_type": "code",
   "execution_count": 5,
   "metadata": {},
   "outputs": [],
   "source": [
    "def train(batch_size):\n",
    "    #model.train() puts our model in train mode, which can require different behaviour than eval mode (for example\n",
    "    #in the case of dropout\n",
    "    #model.train()\n",
    "    #i is a 1 dimensional array with shape[batch_size]\n",
    "    i = np.random.choice(train_seqs.shape[0], size=batch_size, replace=False)\n",
    "    x = autograd.Variable(torch.from_numpy(train_seqs[i].astype(np.float32)))\n",
    "    y = autograd.Variable(torch.from_numpy(train_labels[i].astype(np.int)))\n",
    "    optimizer.zero_grad()\n",
    "    y_hat_ = model(x)\n",
    "    loss = F.cross_entropy(y_hat_, y)\n",
    "    loss.backward()\n",
    "    optimizer.step()\n",
    "    return loss.data[0]"
   ]
  },
  {
   "cell_type": "code",
   "execution_count": 6,
   "metadata": {},
   "outputs": [],
   "source": [
    "def approx_train_accuracy():\n",
    "    i = np.random.choice(train_seqs.shape[0], size=1000, replace=False)\n",
    "    x = autograd.Variable(torch.from_numpy(train_seqs[i].astype(np.float32)))\n",
    "    y = autograd.Variable(torch.from_numpy(train_labels[i].astype(np.float32)))\n",
    "    y_hat_ = model(x)\n",
    "    temp,y_hat = torch.max(y_hat_,1)\n",
    "    return accuracy(y,y_hat)\n",
    "    "
   ]
  },
  {
   "cell_type": "code",
   "execution_count": 7,
   "metadata": {},
   "outputs": [],
   "source": [
    "def approx_val_accuracy():\n",
    "    i = np.random.choice(train_seqs.shape[0], size=1000, replace=False)\n",
    "    x = autograd.Variable(torch.from_numpy(val_seqs.astype(np.float32)))\n",
    "    y = autograd.Variable(torch.from_numpy(val_labels.astype(np.float32)))\n",
    "    y_hat_ = model(x)\n",
    "    temp,y_hat = torch.max(y_hat_,1)\n",
    "    return accuracy(y,y_hat)\n",
    "    "
   ]
  },
  {
   "cell_type": "code",
   "execution_count": 8,
   "metadata": {},
   "outputs": [],
   "source": [
    "def accuracy(y,y_hat):\n",
    "    correct = np.count_nonzero(y_hat.data.numpy()==y.data.numpy())\n",
    "    return correct/y.data.shape[0]"
   ]
  },
  {
   "cell_type": "code",
   "execution_count": 9,
   "metadata": {},
   "outputs": [
    {
     "name": "stdout",
     "output_type": "stream",
     "text": [
      "     0 24.10 23.84\n",
      "   100 37.20 37.66\n",
      "   200 39.90 42.12\n",
      "   300 55.80 53.72\n",
      "   400 44.40 42.32\n",
      "   500 54.70 55.30\n",
      "   600 58.60 59.80\n",
      "   700 60.00 59.80\n",
      "   800 63.10 63.44\n",
      "   900 61.20 61.20\n",
      "  1000 67.00 67.72\n",
      "  1100 66.40 68.24\n",
      "  1200 65.00 66.04\n",
      "  1300 67.60 69.56\n",
      "  1400 69.30 69.78\n",
      "  1500 69.90 72.00\n",
      "  1600 70.70 72.82\n",
      "  1700 72.20 72.04\n",
      "  1800 72.40 74.60\n",
      "  1900 73.70 74.70\n",
      "Total training time approx. = 27.862809896469116 secs\n"
     ]
    }
   ],
   "source": [
    "#time\n",
    "t = time.time()\n",
    "train_accs, val_accs =[], []\n",
    "for i in range(NUM_OPT_STEPS):\n",
    "    loss = train(batch_size)\n",
    "    if i%100==0:\n",
    "        train_accs.append(approx_train_accuracy())\n",
    "        val_accs.append(approx_val_accuracy())\n",
    "        print(\"%6d %5.2f %5.2f\"%(i,train_accs[-1]*100,val_accs[-1]*100))\n",
    "        \n",
    "elapsed = time.time() - t\n",
    "print('Total training time approx. =',elapsed,'secs')"
   ]
  },
  {
   "cell_type": "code",
   "execution_count": 10,
   "metadata": {},
   "outputs": [
    {
     "name": "stdout",
     "output_type": "stream",
     "text": [
      "average accuracy =  0.5966\n"
     ]
    },
    {
     "data": {
      "image/png": "[encoded data removed]",
      "text/plain": [
       "<matplotlib.figure.Figure at 0x10dfd5b38>"
      ]
     },
     "metadata": {},
     "output_type": "display_data"
    }
   ],
   "source": [
    "plt.plot(train_accs)\n",
    "plt.title('Training accuracy')\n",
    "plt.ylabel('accuracy')\n",
    "plt.xlabel('optimization steps')\n",
    "print('average accuracy = ',np.mean(train_accs))"
   ]
  },
  {
   "cell_type": "code",
   "execution_count": 11,
   "metadata": {},
   "outputs": [
    {
     "name": "stdout",
     "output_type": "stream",
     "text": [
      "average accuracy =  0.60335\n"
     ]
    },
    {
     "data": {
      "image/png": "[encoded data removed]",
      "text/plain": [
       "<matplotlib.figure.Figure at 0x10dfd5470>"
      ]
     },
     "metadata": {},
     "output_type": "display_data"
    }
   ],
   "source": [
    "plt.plot(val_accs)\n",
    "plt.title('Validation accuracy')\n",
    "plt.ylabel('accuracy')\n",
    "plt.xlabel('optimization steps')\n",
    "print('average accuracy = ',np.mean(val_accs))"
   ]
  },
  {
   "cell_type": "code",
   "execution_count": 12,
   "metadata": {},
   "outputs": [
    {
     "name": "stdout",
     "output_type": "stream",
     "text": [
      "Max training accuracy= 0.737 for 2000 optimization steps\n",
      "Max validation accuracy= 0.747 for 2000 optimization steps\n",
      "batch_size= 10\n",
      "Learning rate= 0.001\n",
      "optimizer = Adam\n",
      "Total training time approx. = 27.862809896469116 secs\n"
     ]
    }
   ],
   "source": [
    "print('Max training accuracy=',np.max(train_accs), 'for',NUM_OPT_STEPS ,'optimization steps')\n",
    "print('Max validation accuracy=',np.max(val_accs), 'for',NUM_OPT_STEPS, 'optimization steps')\n",
    "print('batch_size=',batch_size)\n",
    "print('Learning rate=',1e-3)\n",
    "print('optimizer = Adam')\n",
    "print('Total training time approx. =',elapsed,'secs')"
   ]
  },
  {
   "cell_type": "code",
   "execution_count": 13,
   "metadata": {},
   "outputs": [
    {
     "name": "stdout",
     "output_type": "stream",
     "text": [
      "     0 19.90 19.66\n",
      "   100 36.30 38.28\n",
      "   200 55.30 54.62\n",
      "   300 62.60 63.90\n",
      "   400 60.70 61.28\n",
      "   500 63.30 63.74\n",
      "   600 68.80 68.48\n",
      "   700 71.60 71.22\n",
      "   800 72.00 72.78\n",
      "   900 76.50 73.12\n",
      "  1000 77.80 75.12\n",
      "  1100 76.70 73.48\n",
      "  1200 75.20 74.96\n",
      "  1300 73.60 77.08\n",
      "  1400 77.80 77.12\n",
      "  1500 78.70 77.70\n",
      "  1600 76.50 75.98\n",
      "  1700 78.50 78.68\n",
      "  1800 79.10 77.28\n",
      "  1900 81.40 79.56\n",
      "  2000 79.90 79.46\n",
      "  2100 80.40 79.96\n",
      "  2200 79.70 78.50\n",
      "  2300 81.40 78.92\n",
      "  2400 78.00 80.74\n",
      "  2500 77.00 79.90\n",
      "  2600 82.30 79.06\n",
      "  2700 79.30 80.68\n",
      "  2800 81.10 79.62\n",
      "  2900 82.60 81.46\n",
      "  3000 82.10 81.18\n",
      "  3100 81.50 81.38\n",
      "  3200 84.50 82.16\n",
      "  3300 82.60 82.54\n",
      "  3400 80.00 82.40\n",
      "  3500 80.60 80.70\n",
      "  3600 80.20 81.58\n",
      "  3700 81.10 81.40\n",
      "  3800 82.60 83.12\n",
      "  3900 80.90 82.12\n",
      "  4000 82.60 82.48\n",
      "  4100 83.50 82.98\n",
      "  4200 81.80 83.08\n",
      "  4300 82.80 83.30\n",
      "  4400 81.10 81.72\n",
      "  4500 82.90 83.10\n",
      "  4600 84.30 82.70\n",
      "  4700 83.70 83.08\n",
      "  4800 80.50 81.36\n",
      "  4900 84.00 84.34\n",
      "Total training time approx. = 493.95350217819214 secs\n"
     ]
    }
   ],
   "source": [
    "#to maximize accuracy\n",
    "for m in model.children():\n",
    "    m.reset_parameters()\n",
    "\n",
    "#constant parameters\n",
    "NUM_OPT_STEPS = 5000\n",
    "batch_size = 256;\n",
    "\n",
    "#optimizer\n",
    "optimizer = torch.optim.Adam(model.parameters(), lr=1e-3)\n",
    "\n",
    "#time\n",
    "t = time.time()\n",
    "#training\n",
    "train_accs, val_accs =[], []\n",
    "for i in range(NUM_OPT_STEPS):\n",
    "    loss = train(batch_size)\n",
    "    if i%100==0:\n",
    "        train_accs.append(approx_train_accuracy())\n",
    "        val_accs.append(approx_val_accuracy())\n",
    "        print(\"%6d %5.2f %5.2f\"%(i,train_accs[-1]*100,val_accs[-1]*100))\n",
    "\n",
    "elapsed = time.time() - t\n",
    "print('Total training time approx. =',elapsed,'secs')"
   ]
  },
  {
   "cell_type": "code",
   "execution_count": 17,
   "metadata": {},
   "outputs": [
    {
     "name": "stdout",
     "output_type": "stream",
     "text": [
      "average accuracy =  0.76692\n"
     ]
    },
    {
     "data": {
      "image/png": "[encoded data removed]",
      "text/plain": [
       "<matplotlib.figure.Figure at 0x10902ac50>"
      ]
     },
     "metadata": {},
     "output_type": "display_data"
    }
   ],
   "source": [
    "plt.plot(train_accs)\n",
    "plt.title('Training accuracy')\n",
    "plt.ylabel('accuracy')\n",
    "plt.xlabel('optimization steps')\n",
    "print('average accuracy = ',np.mean(train_accs))"
   ]
  },
  {
   "cell_type": "code",
   "execution_count": 16,
   "metadata": {},
   "outputs": [
    {
     "name": "stdout",
     "output_type": "stream",
     "text": [
      "average accuracy =  0.769808\n"
     ]
    },
    {
     "data": {
      "image/png": "[encoded data removed]",
      "text/plain": [
       "<matplotlib.figure.Figure at 0x1051f99b0>"
      ]
     },
     "metadata": {},
     "output_type": "display_data"
    }
   ],
   "source": [
    "plt.plot(val_accs)\n",
    "plt.title('Validation accuracy')\n",
    "plt.ylabel('accuracy')\n",
    "plt.xlabel('optimization steps')\n",
    "print('average accuracy = ',np.mean(val_accs))"
   ]
  },
  {
   "cell_type": "code",
   "execution_count": 15,
   "metadata": {},
   "outputs": [
    {
     "name": "stdout",
     "output_type": "stream",
     "text": [
      "Max training accuracy= 0.856 at 4700 optimization steps\n",
      "Max validation accuracy= 0.856 at 4700 optimization steps\n",
      "batch_size= 256\n",
      "Learning rate= 0.001\n",
      "optimizer = Adam\n",
      "Total training time approx. = 474.90893816947937 secs\n"
     ]
    }
   ],
   "source": [
    "print('Max training accuracy=',np.max(train_accs), 'for',NUM_OPT_STEPS ,'optimization steps')\n",
    "print('Max validation accuracy=',np.max(val_accs), 'for',NUM_OPT_STEPS, 'optimization steps')\n",
    "print('batch_size=',batch_size)\n",
    "print('Learning rate=',1e-3)\n",
    "print('optimizer = Adam')\n",
    "print('Total training time approx. =',elapsed,'secs')"
   ]
  },
  {
   "cell_type": "code",
   "execution_count": null,
   "metadata": {},
   "outputs": [],
   "source": []
  }
 ],
 "metadata": {
  "kernelspec": {
   "display_name": "Python 3",
   "language": "python",
   "name": "python3"
  },
  "language_info": {
   "codemirror_mode": {
    "name": "ipython",
    "version": 3
   },
   "file_extension": ".py",
   "mimetype": "text/x-python",
   "name": "python",
   "nbconvert_exporter": "python",
   "pygments_lexer": "ipython3",
   "version": "3.6.2"
  }
 },
 "nbformat": 4,
 "nbformat_minor": 2
}
